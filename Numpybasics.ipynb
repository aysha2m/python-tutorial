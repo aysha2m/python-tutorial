{
 "cells": [
  {
   "cell_type": "code",
   "execution_count": 1,
   "id": "4d90be35-45e0-41d6-ac3c-b48b08384140",
   "metadata": {},
   "outputs": [],
   "source": [
    "import numpy as np\n"
   ]
  },
  {
   "cell_type": "code",
   "execution_count": 24,
   "id": "87aa6439-de10-4d51-9371-c2f49108431e",
   "metadata": {},
   "outputs": [
    {
     "name": "stdout",
     "output_type": "stream",
     "text": [
      "[1 2 3]\n"
     ]
    }
   ],
   "source": [
    "#basics \n",
    "#initializing an array\n",
    "#one dimentional array\n",
    "a = np.array([1,2,3], dtype = 'int32')\n",
    "print(a)"
   ]
  },
  {
   "cell_type": "code",
   "execution_count": 15,
   "id": "595cbe60-f9ab-4814-939b-dfc6a865ff96",
   "metadata": {},
   "outputs": [
    {
     "name": "stdout",
     "output_type": "stream",
     "text": [
      "[[9. 8. 7.]\n",
      " [6. 5. 4.]]\n"
     ]
    }
   ],
   "source": [
    "#2dimentional array\n",
    "b = np.array([[9.0,8.0,7.0],[6.0,5.0,4.0]])\n",
    "print(b)"
   ]
  },
  {
   "cell_type": "code",
   "execution_count": 16,
   "id": "b73252c6-d99d-439e-9e26-f04830dd2860",
   "metadata": {},
   "outputs": [
    {
     "data": {
      "text/plain": [
       "1"
      ]
     },
     "execution_count": 16,
     "metadata": {},
     "output_type": "execute_result"
    }
   ],
   "source": [
    "#geting the dimentions \n",
    "a.ndim"
   ]
  },
  {
   "cell_type": "code",
   "execution_count": 17,
   "id": "33de4c21-159f-423e-bea4-89af91e7bf28",
   "metadata": {},
   "outputs": [
    {
     "data": {
      "text/plain": [
       "(2, 3)"
      ]
     },
     "execution_count": 17,
     "metadata": {},
     "output_type": "execute_result"
    }
   ],
   "source": [
    "#get shape\n",
    "b.shape"
   ]
  },
  {
   "cell_type": "code",
   "execution_count": 25,
   "id": "86070c48-b17d-4b88-9cac-8b44f6445085",
   "metadata": {},
   "outputs": [
    {
     "data": {
      "text/plain": [
       "dtype('int32')"
      ]
     },
     "execution_count": 25,
     "metadata": {},
     "output_type": "execute_result"
    }
   ],
   "source": [
    "#get type\n",
    "a.dtype"
   ]
  },
  {
   "cell_type": "code",
   "execution_count": 26,
   "id": "4eae8edd-750e-4703-a00d-643d1f7a7aca",
   "metadata": {},
   "outputs": [
    {
     "data": {
      "text/plain": [
       "4"
      ]
     },
     "execution_count": 26,
     "metadata": {},
     "output_type": "execute_result"
    }
   ],
   "source": [
    "a.itemsize"
   ]
  },
  {
   "cell_type": "code",
   "execution_count": 27,
   "id": "473d3bbd-983e-4cb6-a42f-58c82a64b95c",
   "metadata": {},
   "outputs": [
    {
     "data": {
      "text/plain": [
       "12"
      ]
     },
     "execution_count": 27,
     "metadata": {},
     "output_type": "execute_result"
    }
   ],
   "source": [
    "#get total size\n",
    "a.nbytes"
   ]
  },
  {
   "cell_type": "code",
   "execution_count": 29,
   "id": "52df9116-992f-460a-8cef-157ae7abcf2e",
   "metadata": {},
   "outputs": [
    {
     "name": "stdout",
     "output_type": "stream",
     "text": [
      "[[ 1  2  3  4  5  6  7]\n",
      " [ 8  9 10 11 12 13 14]]\n"
     ]
    }
   ],
   "source": [
    "#accessing /changing specific elements \n",
    "a = np.array([[1,2,3,4,5,6,7],[8,9,10,11,12,13,14]])\n",
    "print(a)\n"
   ]
  },
  {
   "cell_type": "code",
   "execution_count": 32,
   "id": "89f48902-1cf6-43e5-accf-d81d19cbafaf",
   "metadata": {},
   "outputs": [
    {
     "data": {
      "text/plain": [
       "4"
      ]
     },
     "execution_count": 32,
     "metadata": {},
     "output_type": "execute_result"
    }
   ],
   "source": [
    "#get specific element using [r,c]\n",
    "\n",
    "a[0,3]"
   ]
  },
  {
   "cell_type": "code",
   "execution_count": 36,
   "id": "ef7def39-173f-487d-a433-96204834ac4b",
   "metadata": {},
   "outputs": [
    {
     "data": {
      "text/plain": [
       "array([ 8,  9, 10, 11, 12, 13, 14])"
      ]
     },
     "execution_count": 36,
     "metadata": {},
     "output_type": "execute_result"
    }
   ],
   "source": [
    "#get specific row \n",
    "a[1, :]      # the : gives the whole row or column "
   ]
  },
  {
   "cell_type": "code",
   "execution_count": 38,
   "id": "f421d1c1-16a5-422f-a57b-d45ade99d3f3",
   "metadata": {},
   "outputs": [
    {
     "data": {
      "text/plain": [
       "array([2, 9])"
      ]
     },
     "execution_count": 38,
     "metadata": {},
     "output_type": "execute_result"
    }
   ],
   "source": [
    "#get column\n",
    "a[:, 1]"
   ]
  },
  {
   "cell_type": "code",
   "execution_count": 39,
   "id": "21c89591-232c-412f-8b2c-8817c9e56e6b",
   "metadata": {},
   "outputs": [
    {
     "data": {
      "text/plain": [
       "array([2, 4, 6])"
      ]
     },
     "execution_count": 39,
     "metadata": {},
     "output_type": "execute_result"
    }
   ],
   "source": [
    "#startindex:endindex:stepsize to get a range \n",
    "\n",
    "a[0,1: 6:2]"
   ]
  },
  {
   "cell_type": "code",
   "execution_count": 41,
   "id": "ce3218e4-e1b5-4565-81d9-f4b7dc019ab7",
   "metadata": {},
   "outputs": [
    {
     "name": "stdout",
     "output_type": "stream",
     "text": [
      "[[ 1  2  3  4  5  6  7]\n",
      " [ 8  9 10 11 12 15 14]]\n"
     ]
    }
   ],
   "source": [
    "#replacing numbers \n",
    "a[1,5] = 15\n",
    "print(a)"
   ]
  },
  {
   "cell_type": "code",
   "execution_count": 42,
   "id": "6888352e-b2d3-4c31-8a1d-47913e0a7863",
   "metadata": {},
   "outputs": [],
   "source": [
    "#initializing different types of arrays "
   ]
  },
  {
   "cell_type": "code",
   "execution_count": 47,
   "id": "4d3dfb5a-750e-4bde-8ba3-ee00b76a256c",
   "metadata": {},
   "outputs": [
    {
     "data": {
      "text/plain": [
       "array([[0., 0., 0.],\n",
       "       [0., 0., 0.]])"
      ]
     },
     "execution_count": 47,
     "metadata": {},
     "output_type": "execute_result"
    }
   ],
   "source": [
    "#all zeros matrix\n",
    "np.zeros((2,3))"
   ]
  },
  {
   "cell_type": "code",
   "execution_count": 50,
   "id": "42f03ee0-47ff-40b6-9fb9-0a66d9e360cb",
   "metadata": {},
   "outputs": [
    {
     "data": {
      "text/plain": [
       "array([[1., 1., 1., 1.],\n",
       "       [1., 1., 1., 1.],\n",
       "       [1., 1., 1., 1.]])"
      ]
     },
     "execution_count": 50,
     "metadata": {},
     "output_type": "execute_result"
    }
   ],
   "source": [
    "#all ones matrix\n",
    "np.ones((3,4),)"
   ]
  },
  {
   "cell_type": "code",
   "execution_count": 52,
   "id": "a29f5624-23a5-4f8a-b6f7-da4a6708a06d",
   "metadata": {},
   "outputs": [
    {
     "data": {
      "text/plain": [
       "array([[34, 34],\n",
       "       [34, 34]])"
      ]
     },
     "execution_count": 52,
     "metadata": {},
     "output_type": "execute_result"
    }
   ],
   "source": [
    "#any other number\n",
    "np.full((2,2), 34)"
   ]
  },
  {
   "cell_type": "code",
   "execution_count": 55,
   "id": "25974719-7b18-428d-bd48-2281fc1dbcda",
   "metadata": {},
   "outputs": [
    {
     "data": {
      "text/plain": [
       "array([[3, 3, 3, 3, 3, 3, 3],\n",
       "       [3, 3, 3, 3, 3, 3, 3]])"
      ]
     },
     "execution_count": 55,
     "metadata": {},
     "output_type": "execute_result"
    }
   ],
   "source": [
    "#any number alternatively \n",
    "np.full_like(a, 3)"
   ]
  },
  {
   "cell_type": "code",
   "execution_count": 59,
   "id": "23ef9ea1-fe8b-42d4-9d2f-46405a911083",
   "metadata": {},
   "outputs": [
    {
     "data": {
      "text/plain": [
       "array([[0.84189863, 0.96748178],\n",
       "       [0.16187121, 0.19581747],\n",
       "       [0.76860835, 0.89595783],\n",
       "       [0.47889361, 0.69508478]])"
      ]
     },
     "execution_count": 59,
     "metadata": {},
     "output_type": "execute_result"
    }
   ],
   "source": [
    "#initializing random decimal numbers\n",
    "np.random.rand(4,2)"
   ]
  },
  {
   "cell_type": "code",
   "execution_count": 61,
   "id": "9f187af9-a4e8-44b2-ad58-a4fa439fb204",
   "metadata": {},
   "outputs": [
    {
     "data": {
      "text/plain": [
       "array([[0.64099819, 0.72155535, 0.3554273 , 0.88146371, 0.79577248,\n",
       "        0.24761824, 0.24379176],\n",
       "       [0.20159387, 0.48617914, 0.288603  , 0.65413505, 0.7718256 ,\n",
       "        0.70947241, 0.87087847]])"
      ]
     },
     "execution_count": 61,
     "metadata": {},
     "output_type": "execute_result"
    }
   ],
   "source": [
    "#initializing random decimal numbers\n",
    "np.random.sample(a.shape)"
   ]
  },
  {
   "cell_type": "code",
   "execution_count": 65,
   "id": "a3dd9a9c-5d08-46bc-a90e-aeeec7628352",
   "metadata": {},
   "outputs": [
    {
     "data": {
      "text/plain": [
       "array([[4, 2, 0],\n",
       "       [3, 0, 1],\n",
       "       [1, 4, 0]])"
      ]
     },
     "execution_count": 65,
     "metadata": {},
     "output_type": "execute_result"
    }
   ],
   "source": [
    "#initializing random interger numbers\n",
    "np.random.randint(5, size=(3,3))"
   ]
  },
  {
   "cell_type": "code",
   "execution_count": 67,
   "id": "86cad6ef-6725-4b09-8874-6441f3a01b7d",
   "metadata": {},
   "outputs": [
    {
     "data": {
      "text/plain": [
       "array([[1., 0., 0., 0., 0.],\n",
       "       [0., 1., 0., 0., 0.],\n",
       "       [0., 0., 1., 0., 0.],\n",
       "       [0., 0., 0., 1., 0.],\n",
       "       [0., 0., 0., 0., 1.]])"
      ]
     },
     "execution_count": 67,
     "metadata": {},
     "output_type": "execute_result"
    }
   ],
   "source": [
    "#identity matrix \n",
    "np.identity(5)"
   ]
  },
  {
   "cell_type": "code",
   "execution_count": 73,
   "id": "fdb97db4-704a-4f61-abb4-39cfd26ba2a0",
   "metadata": {},
   "outputs": [
    {
     "name": "stdout",
     "output_type": "stream",
     "text": [
      "[1 1 1 2 2 2 3 3 3]\n"
     ]
    }
   ],
   "source": [
    "#reapeating an array\n",
    "arr = np.array([1,2,3,])\n",
    "r1 = np.repeat(arr,3)\n",
    "print(r1)"
   ]
  },
  {
   "cell_type": "code",
   "execution_count": 80,
   "id": "a3be6566-32c2-4db1-9af1-9baea2959242",
   "metadata": {},
   "outputs": [
    {
     "name": "stdout",
     "output_type": "stream",
     "text": [
      "[[1 2 3]\n",
      " [1 2 3]\n",
      " [1 2 3]]\n"
     ]
    }
   ],
   "source": [
    "arr = np.array([[1,2,3,]])\n",
    "r1 = np.repeat(arr,3, axis =0)\n",
    "print(r1)"
   ]
  },
  {
   "cell_type": "code",
   "execution_count": 90,
   "id": "4415776e-4d30-40c5-8a0f-63942a6f2498",
   "metadata": {},
   "outputs": [
    {
     "name": "stdout",
     "output_type": "stream",
     "text": [
      "[[1. 1. 1. 1. 1.]\n",
      " [1. 1. 1. 1. 1.]\n",
      " [1. 1. 1. 1. 1.]\n",
      " [1. 1. 1. 1. 1.]\n",
      " [1. 1. 1. 1. 1.]]\n",
      "[[0. 0. 0.]\n",
      " [0. 9. 0.]\n",
      " [0. 0. 0.]]\n",
      "[[1. 1. 1. 1. 1.]\n",
      " [1. 0. 0. 0. 1.]\n",
      " [1. 0. 9. 0. 1.]\n",
      " [1. 0. 0. 0. 1.]\n",
      " [1. 1. 1. 1. 1.]]\n"
     ]
    }
   ],
   "source": [
    "w = np.ones((5,5))\n",
    "print(w)\n",
    "\n",
    "z = np.zeros((3,3))\n",
    "z[1,1] = 9\n",
    "print(z)\n",
    "\n",
    "w[1:-1,1:-1] = z\n",
    "print(w)"
   ]
  },
  {
   "cell_type": "code",
   "execution_count": 104,
   "id": "3874d060-e033-4dfe-9c33-731754fc241f",
   "metadata": {},
   "outputs": [
    {
     "name": "stdout",
     "output_type": "stream",
     "text": [
      "[100   2   3]\n",
      "[1 2 3]\n"
     ]
    }
   ],
   "source": [
    "a = np.array([1,2,3])\n",
    "b[0]= 100\n",
    "print(b)\n",
    "print(a)"
   ]
  },
  {
   "cell_type": "code",
   "execution_count": 100,
   "id": "bdb65207-ad91-459c-98a8-17690bbf3a2d",
   "metadata": {},
   "outputs": [
    {
     "name": "stdout",
     "output_type": "stream",
     "text": [
      "[1 2 3]\n"
     ]
    }
   ],
   "source": [
    "a = np.array([1,2,3])\n",
    "b = a.copy()\n",
    "b[0] = 2\n",
    "print(a)"
   ]
  },
  {
   "cell_type": "code",
   "execution_count": 106,
   "id": "05e30e94-a56b-4553-9580-6c12789abea8",
   "metadata": {},
   "outputs": [],
   "source": [
    "###maths"
   ]
  },
  {
   "cell_type": "code",
   "execution_count": 114,
   "id": "770bc531-3d18-46d0-a4ef-eaa04c3d6f13",
   "metadata": {},
   "outputs": [
    {
     "name": "stdout",
     "output_type": "stream",
     "text": [
      "[1 2 3 4]\n"
     ]
    }
   ],
   "source": [
    "a = np.array([1,2,3,4])\n",
    "print(a)"
   ]
  },
  {
   "cell_type": "code",
   "execution_count": 108,
   "id": "e682cf59-18bf-417b-b05c-a20101c850c5",
   "metadata": {},
   "outputs": [
    {
     "data": {
      "text/plain": [
       "array([3, 4, 5, 6])"
      ]
     },
     "execution_count": 108,
     "metadata": {},
     "output_type": "execute_result"
    }
   ],
   "source": [
    "#addition\n",
    "a+2"
   ]
  },
  {
   "cell_type": "code",
   "execution_count": 109,
   "id": "c2ce3557-fd30-4617-beb5-3952cad15b4b",
   "metadata": {},
   "outputs": [
    {
     "data": {
      "text/plain": [
       "array([-1,  0,  1,  2])"
      ]
     },
     "execution_count": 109,
     "metadata": {},
     "output_type": "execute_result"
    }
   ],
   "source": [
    "#subtraction\n",
    "a-2"
   ]
  },
  {
   "cell_type": "code",
   "execution_count": 110,
   "id": "5200c015-270b-44db-a34d-7f7b8bd6b4c9",
   "metadata": {},
   "outputs": [
    {
     "data": {
      "text/plain": [
       "array([2, 4, 6, 8])"
      ]
     },
     "execution_count": 110,
     "metadata": {},
     "output_type": "execute_result"
    }
   ],
   "source": [
    "#multiplication\n",
    "a*2"
   ]
  },
  {
   "cell_type": "code",
   "execution_count": 111,
   "id": "b4c756c6-6bb3-4a6d-b807-51e5b5a56658",
   "metadata": {},
   "outputs": [
    {
     "data": {
      "text/plain": [
       "array([0.5, 1. , 1.5, 2. ])"
      ]
     },
     "execution_count": 111,
     "metadata": {},
     "output_type": "execute_result"
    }
   ],
   "source": [
    "#division\n",
    "a/2"
   ]
  },
  {
   "cell_type": "code",
   "execution_count": 115,
   "id": "fd629e64-dac6-4581-b837-3195df962927",
   "metadata": {},
   "outputs": [
    {
     "data": {
      "text/plain": [
       "array([2, 2, 4, 4])"
      ]
     },
     "execution_count": 115,
     "metadata": {},
     "output_type": "execute_result"
    }
   ],
   "source": [
    "b = np.array([1,0,1,0])\n",
    "a+b"
   ]
  },
  {
   "cell_type": "code",
   "execution_count": 116,
   "id": "c079e9bb-f196-46f1-a8ad-b4c03a285c37",
   "metadata": {},
   "outputs": [
    {
     "data": {
      "text/plain": [
       "array([ 1,  4,  9, 16])"
      ]
     },
     "execution_count": 116,
     "metadata": {},
     "output_type": "execute_result"
    }
   ],
   "source": [
    "a ** 2"
   ]
  },
  {
   "cell_type": "code",
   "execution_count": 117,
   "id": "8078e1f9-31e6-4230-a7a8-a6f6123c19bd",
   "metadata": {},
   "outputs": [
    {
     "data": {
      "text/plain": [
       "array([ 0.84147098,  0.90929743,  0.14112001, -0.7568025 ])"
      ]
     },
     "execution_count": 117,
     "metadata": {},
     "output_type": "execute_result"
    }
   ],
   "source": [
    "#take sin\n",
    "np.sin(a)"
   ]
  },
  {
   "cell_type": "code",
   "execution_count": 118,
   "id": "ed473748-0ab6-4bb6-8086-14cecc2f07f5",
   "metadata": {},
   "outputs": [],
   "source": [
    "#######linear algebra"
   ]
  },
  {
   "cell_type": "code",
   "execution_count": 120,
   "id": "395af483-21bb-4312-a676-6fdf251d5e59",
   "metadata": {},
   "outputs": [
    {
     "name": "stdout",
     "output_type": "stream",
     "text": [
      "[[[1. 1. 1.]\n",
      "  [1. 1. 1.]]]\n",
      "[[2 2]\n",
      " [2 2]\n",
      " [2 2]]\n"
     ]
    }
   ],
   "source": [
    "a = np.ones((1,2,3))\n",
    "print(a)\n",
    "\n",
    "b =np.full((3,2), 2)\n",
    "print(b)"
   ]
  },
  {
   "cell_type": "code",
   "execution_count": 121,
   "id": "f0426013-aaa1-4302-86fe-bbfbb8d343bb",
   "metadata": {},
   "outputs": [
    {
     "data": {
      "text/plain": [
       "array([[[6., 6.],\n",
       "        [6., 6.]]])"
      ]
     },
     "execution_count": 121,
     "metadata": {},
     "output_type": "execute_result"
    }
   ],
   "source": [
    "#matric multiply\n",
    "\n",
    "np.matmul(a,b)"
   ]
  },
  {
   "cell_type": "code",
   "execution_count": 123,
   "id": "e19a764e-6bcd-4bb5-b842-6a4f8912f9ac",
   "metadata": {},
   "outputs": [
    {
     "data": {
      "text/plain": [
       "1.0"
      ]
     },
     "execution_count": 123,
     "metadata": {},
     "output_type": "execute_result"
    }
   ],
   "source": [
    "#finding determinant\n",
    "\n",
    "c = np.identity(3)\n",
    "np.linalg.det(c)"
   ]
  },
  {
   "cell_type": "code",
   "execution_count": 125,
   "id": "b4f96bad-0c88-4c66-b870-2eef33721ac3",
   "metadata": {},
   "outputs": [],
   "source": [
    "######statistics"
   ]
  },
  {
   "cell_type": "code",
   "execution_count": 127,
   "id": "2850ba28-7bc3-47d6-8e64-96754ad4626f",
   "metadata": {},
   "outputs": [
    {
     "data": {
      "text/plain": [
       "array([[1, 2, 3],\n",
       "       [4, 5, 6]])"
      ]
     },
     "execution_count": 127,
     "metadata": {},
     "output_type": "execute_result"
    }
   ],
   "source": [
    "stats = np.array([[1,2,3],[4,5,6]])\n",
    "stats"
   ]
  },
  {
   "cell_type": "code",
   "execution_count": 128,
   "id": "44531634-680f-4498-ab97-22aeaf2d6703",
   "metadata": {},
   "outputs": [
    {
     "data": {
      "text/plain": [
       "1"
      ]
     },
     "execution_count": 128,
     "metadata": {},
     "output_type": "execute_result"
    }
   ],
   "source": [
    "np.min(stats)"
   ]
  },
  {
   "cell_type": "code",
   "execution_count": 132,
   "id": "dd0c3a09-7129-4e30-a6f8-8bec10605fe1",
   "metadata": {},
   "outputs": [
    {
     "data": {
      "text/plain": [
       "6"
      ]
     },
     "execution_count": 132,
     "metadata": {},
     "output_type": "execute_result"
    }
   ],
   "source": [
    "np.max(stats)"
   ]
  },
  {
   "cell_type": "code",
   "execution_count": 133,
   "id": "dff30014-1667-460f-9367-c9ca12f90907",
   "metadata": {},
   "outputs": [],
   "source": [
    "###reorganizing arrqays "
   ]
  },
  {
   "cell_type": "code",
   "execution_count": 135,
   "id": "510543db-0e08-4fb4-9583-e50744ab83b4",
   "metadata": {},
   "outputs": [
    {
     "name": "stdout",
     "output_type": "stream",
     "text": [
      "[[1 2 3 4]\n",
      " [5 6 7 8]]\n",
      "[[1]\n",
      " [2]\n",
      " [3]\n",
      " [4]\n",
      " [5]\n",
      " [6]\n",
      " [7]\n",
      " [8]]\n"
     ]
    }
   ],
   "source": [
    "before = np.array([[1,2,3,4],[5,6,7,8]])\n",
    "print(before)\n",
    "\n",
    "after = before.reshape((8,1))\n",
    "print(after)"
   ]
  },
  {
   "cell_type": "code",
   "execution_count": 138,
   "id": "aad08837-d4b2-4942-9fb8-3f5af7239236",
   "metadata": {},
   "outputs": [
    {
     "data": {
      "text/plain": [
       "array([[1, 2, 3, 4],\n",
       "       [5, 6, 7, 8],\n",
       "       [5, 6, 7, 8]])"
      ]
     },
     "execution_count": 138,
     "metadata": {},
     "output_type": "execute_result"
    }
   ],
   "source": [
    "##vertical stacking\n",
    "v1 = np.array([1,2,3,4])\n",
    "v2 = np.array([5,6,7,8])\n",
    "\n",
    "np.vstack((v1,v2,v2))"
   ]
  },
  {
   "cell_type": "code",
   "execution_count": 143,
   "id": "c666fdf5-f74f-48a4-9ca3-3b8a6b1dc205",
   "metadata": {},
   "outputs": [
    {
     "data": {
      "text/plain": [
       "array([[1., 1., 1., 1., 0., 0.],\n",
       "       [1., 1., 1., 1., 0., 0.]])"
      ]
     },
     "execution_count": 143,
     "metadata": {},
     "output_type": "execute_result"
    }
   ],
   "source": [
    "#horizontal stacking\n",
    "h1 = np.ones((2,4))\n",
    "h2 = np.zeros((2,2))\n",
    "\n",
    "np.hstack((h1,h2))"
   ]
  },
  {
   "cell_type": "code",
   "execution_count": null,
   "id": "84e4f277-49f2-4af1-82d5-7b770a86b776",
   "metadata": {},
   "outputs": [],
   "source": [
    "####miscellaneous"
   ]
  },
  {
   "cell_type": "code",
   "execution_count": null,
   "id": "6891499e-196e-4447-8ef8-ffaf2eb8bad2",
   "metadata": {},
   "outputs": [],
   "source": [
    "#loading data from file\n",
    "filedata = np.genfromtxt('filename', delimeter='how the data is separated')\n",
    "filedata = filedata.astype('int32')      #to change the data to intergers \n"
   ]
  },
  {
   "cell_type": "markdown",
   "id": "490b719d-69b8-4bbb-a3a4-482a27c30e6c",
   "metadata": {},
   "source": [
    "##bolean masking and advance indexing"
   ]
  },
  {
   "cell_type": "code",
   "execution_count": null,
   "id": "57d1e7e6-2b91-4ab8-911a-c50c571dc35e",
   "metadata": {},
   "outputs": [],
   "source": [
    "filedata[filedata > 50]   # numbers in the data greater than 50\n",
    "np.any(filedata > 50, axis = 0)   # if any of the columns have values greater than 50 \n",
    "np.all(filedata > 50, axis = 0)   #gives true the columns where all values are grater thatn 50 \n",
    "\n",
    "((filedata > 50) & (filedata < 100))  #gives true the values that are greater than 50 and less than 100\n",
    "(~((filedata > 50) & (filedata < 100))) #give the opposite of the above "
   ]
  },
  {
   "cell_type": "code",
   "execution_count": null,
   "id": "10eb401b-0eca-4d28-a259-54cf32bc6ee7",
   "metadata": {},
   "outputs": [],
   "source": []
  },
  {
   "cell_type": "code",
   "execution_count": null,
   "id": "44b60d6b-b2ef-4ac3-a2f8-61e65468b44b",
   "metadata": {},
   "outputs": [],
   "source": []
  },
  {
   "cell_type": "code",
   "execution_count": null,
   "id": "11400772-7cae-4f0a-914a-7d005521c818",
   "metadata": {},
   "outputs": [],
   "source": []
  },
  {
   "cell_type": "code",
   "execution_count": null,
   "id": "9c9a28c9-c55e-45a5-ac3b-237893c6b945",
   "metadata": {},
   "outputs": [],
   "source": []
  },
  {
   "cell_type": "code",
   "execution_count": null,
   "id": "48419f42-5893-41f2-a9b0-6248c5644206",
   "metadata": {},
   "outputs": [],
   "source": []
  },
  {
   "cell_type": "code",
   "execution_count": null,
   "id": "44b3e829-8ae6-45cc-a990-3d079791004c",
   "metadata": {},
   "outputs": [],
   "source": []
  },
  {
   "cell_type": "code",
   "execution_count": null,
   "id": "3ecdcbbe-fc5b-4012-ba46-a183a26e00dc",
   "metadata": {},
   "outputs": [],
   "source": []
  }
 ],
 "metadata": {
  "kernelspec": {
   "display_name": "Python 3 (ipykernel)",
   "language": "python",
   "name": "python3"
  },
  "language_info": {
   "codemirror_mode": {
    "name": "ipython",
    "version": 3
   },
   "file_extension": ".py",
   "mimetype": "text/x-python",
   "name": "python",
   "nbconvert_exporter": "python",
   "pygments_lexer": "ipython3",
   "version": "3.12.4"
  }
 },
 "nbformat": 4,
 "nbformat_minor": 5
}
