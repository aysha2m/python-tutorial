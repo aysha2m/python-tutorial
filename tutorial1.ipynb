{
  "cells": [
    {
      "cell_type": "markdown",
      "metadata": {
        "id": "view-in-github",
        "colab_type": "text"
      },
      "source": [
        "<a href=\"https://colab.research.google.com/github/aysha2m/python-tutorial/blob/main/tutorial1.ipynb\" target=\"_parent\"><img src=\"https://colab.research.google.com/assets/colab-badge.svg\" alt=\"Open In Colab\"/></a>"
      ]
    },
    {
      "cell_type": "code",
      "execution_count": null,
      "metadata": {
        "id": "YpUsvihNWray"
      },
      "outputs": [],
      "source": [
        "v1=1\n",
        "v2=2"
      ]
    },
    {
      "cell_type": "code",
      "execution_count": null,
      "metadata": {
        "id": "HrF9LjC267lf"
      },
      "outputs": [],
      "source": [
        "temp=v1\n",
        "v1=v2\n",
        "v2=temp"
      ]
    },
    {
      "cell_type": "code",
      "execution_count": null,
      "metadata": {
        "colab": {
          "base_uri": "https://localhost:8080/"
        },
        "id": "z-FWcIAM8H4W",
        "outputId": "6433e067-752a-4756-9487-85f99e6b9c4e"
      },
      "outputs": [
        {
          "name": "stdout",
          "output_type": "stream",
          "text": [
            "2\n",
            "1\n"
          ]
        }
      ],
      "source": [
        "print(v1)\n",
        "print(v2)"
      ]
    },
    {
      "cell_type": "code",
      "execution_count": null,
      "metadata": {
        "colab": {
          "base_uri": "https://localhost:8080/"
        },
        "id": "wZIz47Ju__mj",
        "outputId": "d7882bc8-62b2-43c8-b670-217c2afe9c11"
      },
      "outputs": [
        {
          "name": "stdout",
          "output_type": "stream",
          "text": [
            "a is greater than than b by more than 10\n"
          ]
        }
      ],
      "source": [
        "a=30\n",
        "b=2\n",
        "if a < b:\n",
        "    print(\"a is less than b\")\n",
        "elif a==b:\n",
        "    print(\"a is equal to b\")\n",
        "elif a > b + 10:\n",
        "    print(\"a is greater than than b by more than 10\")\n",
        "else:\n",
        "    print (\"a is grater than b\")\n"
      ]
    },
    {
      "cell_type": "code",
      "execution_count": null,
      "metadata": {
        "colab": {
          "base_uri": "https://localhost:8080/"
        },
        "id": "LiVwLZCNNdDQ",
        "outputId": "94f9c068-afeb-4256-f96b-66004ae9e165"
      },
      "outputs": [
        {
          "name": "stdout",
          "output_type": "stream",
          "text": [
            "bmi:\n",
            "23.437499999999996\n",
            "normal_weight\n"
          ]
        }
      ],
      "source": [
        "name=\"ay\"\n",
        "weight_kg=50\n",
        "height_m=1.60\n",
        "bmi=weight_kg/height_m**2\n",
        "print(\"bmi:\")\n",
        "print(bmi)\n",
        "if bmi > 25:\n",
        "    print(\"overweight\")\n",
        "else:\n",
        "    if bmi < 18.5:\n",
        "        print(\"underweight\")\n",
        "    else:\n",
        "        print(\"normal_weight\")\n"
      ]
    },
    {
      "cell_type": "code",
      "execution_count": null,
      "metadata": {
        "colab": {
          "base_uri": "https://localhost:8080/"
        },
        "id": "ZrchLMH3dxWM",
        "outputId": "6631647b-aa97-4547-b1de-01135cb6537d"
      },
      "outputs": [
        {
          "name": "stdout",
          "output_type": "stream",
          "text": [
            "out of function\n"
          ]
        }
      ],
      "source": [
        "# functions\n",
        "def function1():\n",
        "    print(\"okay\")\n",
        "    print(\"okayyy\")\n",
        "print(\"out of function\")"
      ]
    },
    {
      "cell_type": "code",
      "execution_count": null,
      "metadata": {
        "colab": {
          "base_uri": "https://localhost:8080/"
        },
        "id": "itcuckuXh7Fb",
        "outputId": "86c78304-fba6-40bc-bb40-ccb87b4e576f"
      },
      "outputs": [
        {
          "name": "stdout",
          "output_type": "stream",
          "text": [
            "okay\n",
            "okayyy\n"
          ]
        }
      ],
      "source": [
        "function1()"
      ]
    },
    {
      "cell_type": "code",
      "execution_count": null,
      "metadata": {
        "id": "F9rZrZJViF12"
      },
      "outputs": [],
      "source": [
        "def function2(x):\n",
        "    return 2*x"
      ]
    },
    {
      "cell_type": "code",
      "execution_count": null,
      "metadata": {
        "colab": {
          "base_uri": "https://localhost:8080/"
        },
        "id": "db0OcP4SieFk",
        "outputId": "d506b546-20c9-4e2f-b998-791b7c1e5471"
      },
      "outputs": [
        {
          "name": "stdout",
          "output_type": "stream",
          "text": [
            "6\n"
          ]
        }
      ],
      "source": [
        "a = function2(3)\n",
        "print(a)"
      ]
    },
    {
      "cell_type": "code",
      "execution_count": null,
      "metadata": {
        "colab": {
          "base_uri": "https://localhost:8080/"
        },
        "id": "98fn4Im5jrCq",
        "outputId": "1078680f-0899-46f2-be0d-1acaa0e2747d"
      },
      "outputs": [
        {
          "name": "stdout",
          "output_type": "stream",
          "text": [
            "8\n"
          ]
        }
      ],
      "source": [
        "b=function2(4)\n",
        "print(b)"
      ]
    },
    {
      "cell_type": "code",
      "execution_count": null,
      "metadata": {
        "id": "jwOt61w8nW0i"
      },
      "outputs": [],
      "source": [
        "def bmi_calculator(name, height_m, weight_kg):\n",
        "    bmi = weight_kg/(height_m**2)\n",
        "    print(\"bmi:\")\n",
        "    print(bmi)\n",
        "    if bmi < 25:\n",
        "      return name + \"not overweight\"\n",
        "    else:\n",
        "      return name + \"overweight\""
      ]
    },
    {
      "cell_type": "code",
      "execution_count": null,
      "metadata": {
        "colab": {
          "base_uri": "https://localhost:8080/"
        },
        "id": "xhkJvrkMp_uW",
        "outputId": "785e4c80-87a0-4099-eca7-12914a98caf3"
      },
      "outputs": [
        {
          "name": "stdout",
          "output_type": "stream",
          "text": [
            "bmi:\n",
            "23.437499999999996\n",
            "aynot overweight\n"
          ]
        }
      ],
      "source": [
        "results=bmi_calculator(name, height_m, weight_kg)\n",
        "print(results)"
      ]
    },
    {
      "cell_type": "code",
      "execution_count": null,
      "metadata": {
        "id": "VnTGtJNArlGn"
      },
      "outputs": [],
      "source": [
        "# convert_km\n",
        "mile1=23\n",
        "mile2=54\n",
        "mile3=4"
      ]
    },
    {
      "cell_type": "code",
      "execution_count": null,
      "metadata": {
        "id": "nGIW3ZoyqpBQ"
      },
      "outputs": [],
      "source": [
        "def convert_km(mile):\n",
        "    km = 1.6*mile\n",
        "    print(\"km:\")\n",
        "    print(km)\n",
        ""
      ]
    },
    {
      "cell_type": "code",
      "execution_count": null,
      "metadata": {
        "colab": {
          "base_uri": "https://localhost:8080/"
        },
        "id": "mbP6ELtOsXdm",
        "outputId": "2258be0c-1870-41d6-a952-3a235b1c3ccf"
      },
      "outputs": [
        {
          "name": "stdout",
          "output_type": "stream",
          "text": [
            "km:\n",
            "36.800000000000004\n",
            "km:\n",
            "86.4\n",
            "km:\n",
            "6.4\n",
            "36.800000000000004\n",
            "86.4\n",
            "6.4\n"
          ]
        }
      ],
      "source": [
        "r1 = convert_km(mile1)\n",
        "r2=convert_km(mile2)\n",
        "r3=convert_km(mile3)\n",
        "print(r1)\n",
        "print(r2)\n",
        "print(r3)\n"
      ]
    },
    {
      "cell_type": "code",
      "execution_count": null,
      "metadata": {
        "colab": {
          "base_uri": "https://localhost:8080/"
        },
        "id": "8WBseydvy33b",
        "outputId": "3904a68f-8d75-42e0-9156-bf64624fc283"
      },
      "outputs": [
        {
          "name": "stdout",
          "output_type": "stream",
          "text": [
            "[1, 5, 7]\n"
          ]
        }
      ],
      "source": [
        "a=[1, 5, 7]\n",
        "print(a)\n"
      ]
    },
    {
      "cell_type": "code",
      "execution_count": null,
      "metadata": {
        "colab": {
          "base_uri": "https://localhost:8080/"
        },
        "id": "IGW2YjLV2Njf",
        "outputId": "5913ae76-f777-407e-a6eb-6357f3c4bf1e"
      },
      "outputs": [
        {
          "name": "stdout",
          "output_type": "stream",
          "text": [
            "[1, 5, 7, 3]\n"
          ]
        }
      ],
      "source": [
        "a.append(3)\n",
        "print(a)\n"
      ]
    },
    {
      "cell_type": "code",
      "execution_count": null,
      "metadata": {
        "colab": {
          "base_uri": "https://localhost:8080/"
        },
        "id": "ApBp71dR2ejh",
        "outputId": "166165bd-eba3-4e6b-a1d5-305960972768"
      },
      "outputs": [
        {
          "name": "stdout",
          "output_type": "stream",
          "text": [
            "[1, 5, 7]\n"
          ]
        }
      ],
      "source": [
        "a.pop()\n",
        "print(a)\n",
        "\n"
      ]
    },
    {
      "cell_type": "code",
      "execution_count": null,
      "metadata": {
        "colab": {
          "base_uri": "https://localhost:8080/"
        },
        "id": "fHAVk6YZ2495",
        "outputId": "3e5aee91-9277-41c9-bfdd-f511ed4d0de8"
      },
      "outputs": [
        {
          "data": {
            "text/plain": [
              "1"
            ]
          },
          "execution_count": 68,
          "metadata": {},
          "output_type": "execute_result"
        }
      ],
      "source": [
        "a[0]"
      ]
    },
    {
      "cell_type": "code",
      "execution_count": null,
      "metadata": {
        "colab": {
          "base_uri": "https://localhost:8080/"
        },
        "id": "lyS4Y39x3FMp",
        "outputId": "9e464245-503b-4b5c-947d-201a0e1e8972"
      },
      "outputs": [
        {
          "name": "stdout",
          "output_type": "stream",
          "text": [
            "[1, 23, 7]\n"
          ]
        }
      ],
      "source": [
        "a[1]=23\n",
        "print(a)\n"
      ]
    },
    {
      "cell_type": "code",
      "execution_count": null,
      "metadata": {
        "colab": {
          "base_uri": "https://localhost:8080/"
        },
        "id": "0oHgl17P3a0V",
        "outputId": "8090d3bc-d1e1-4dab-8702-3850f7d66379"
      },
      "outputs": [
        {
          "name": "stdout",
          "output_type": "stream",
          "text": [
            "['banana', 'apple', 'microsoft']\n"
          ]
        }
      ],
      "source": [
        "b=[\"banana\", \"apple\", \"microsoft\"]\n",
        "print(b)\n"
      ]
    },
    {
      "cell_type": "code",
      "execution_count": null,
      "metadata": {
        "id": "5ZiDhEWV3_Dz"
      },
      "outputs": [],
      "source": [
        "temp=b[0]\n",
        "b[0]=b[2]\n",
        "b[2]=temp\n"
      ]
    },
    {
      "cell_type": "code",
      "execution_count": null,
      "metadata": {
        "colab": {
          "base_uri": "https://localhost:8080/"
        },
        "id": "9_dovnKW4qDP",
        "outputId": "81080620-b9b3-4976-8883-bc4fcc985e8a"
      },
      "outputs": [
        {
          "name": "stdout",
          "output_type": "stream",
          "text": [
            "['microsoft', 'apple', 'banana']\n"
          ]
        }
      ],
      "source": [
        "print(b)"
      ]
    },
    {
      "cell_type": "code",
      "execution_count": null,
      "metadata": {
        "id": "uh3SJsiE4x3_"
      },
      "outputs": [],
      "source": [
        "b[0],b[2]=b[2], b[0]"
      ]
    },
    {
      "cell_type": "code",
      "execution_count": null,
      "metadata": {
        "colab": {
          "base_uri": "https://localhost:8080/"
        },
        "id": "HpJfcSt-5XS1",
        "outputId": "a3daa7f1-c26d-4c17-add3-08caf2bc158a"
      },
      "outputs": [
        {
          "name": "stdout",
          "output_type": "stream",
          "text": [
            "['banana', 'apple', 'microsoft']\n"
          ]
        }
      ],
      "source": [
        "print(b)"
      ]
    },
    {
      "cell_type": "code",
      "execution_count": null,
      "metadata": {
        "colab": {
          "base_uri": "https://localhost:8080/"
        },
        "id": "gBVztT8m74LY",
        "outputId": "60d5a08d-428a-429e-ac5a-3e7fd4897123"
      },
      "outputs": [
        {
          "name": "stdout",
          "output_type": "stream",
          "text": [
            "[1, 2, 3, 4, 5, 6, 7, 8, 9, 10, 11, 12, 13, 14, 15, 16, 17, 18, 19, 20, 21, 22, 23, 24, 25, 26, 27, 28, 29, 30, 31, 32, 33, 34, 35, 36, 37, 38, 39, 40, 41, 42, 43, 44, 45, 46, 47, 48, 49, 50, 51, 52, 53, 54, 55, 56, 57, 58, 59, 60, 61, 62, 63, 64, 65, 66, 67, 68, 69, 70, 71, 72, 73, 74, 75, 76, 77, 78, 79, 80, 81, 82, 83, 84, 85, 86, 87, 88, 89, 90, 91, 92, 93, 94, 95, 96, 97, 98, 99]\n"
          ]
        }
      ],
      "source": [
        "list(range(1, 100))\n",
        "print(list(range(1, 100)))"
      ]
    },
    {
      "cell_type": "code",
      "execution_count": null,
      "metadata": {
        "colab": {
          "base_uri": "https://localhost:8080/"
        },
        "id": "0X4S7YTX87MU",
        "outputId": "de4ff547-7081-4e56-e6ad-f3f093ff4774"
      },
      "outputs": [
        {
          "name": "stdout",
          "output_type": "stream",
          "text": [
            "2318\n"
          ]
        }
      ],
      "source": [
        "total=0\n",
        "for i in range(1,100):\n",
        "    if i % 3 ==0 or i % 5 == 0:\n",
        "      total +=i\n",
        "print(total)"
      ]
    },
    {
      "cell_type": "code",
      "execution_count": null,
      "metadata": {
        "colab": {
          "base_uri": "https://localhost:8080/"
        },
        "id": "TpTMG-HHL_OL",
        "outputId": "27ba7d2b-214c-4e2a-ffc5-629cba1a801d"
      },
      "outputs": [
        {
          "name": "stdout",
          "output_type": "stream",
          "text": [
            "-17\n"
          ]
        }
      ],
      "source": [
        "given_list=[7, 5, 4, 4, 3, 1, -2, -3, -5, -7]\n",
        "total1= 0\n",
        "for i in given_list:\n",
        "  if i<0:\n",
        "    total1 += i\n",
        "print(total1)"
      ]
    },
    {
      "cell_type": "code",
      "execution_count": null,
      "metadata": {
        "colab": {
          "background_save": true
        },
        "id": "omfGKqx1VdSo",
        "outputId": "99ce963d-6bea-46f4-cd9f-40c04077aa59"
      },
      "outputs": [
        {
          "name": "stdout",
          "output_type": "stream",
          "text": [
            "-17\n"
          ]
        }
      ],
      "source": [
        "given_list=[7, 5, 4, 4, 3, 1, -2, -3, -5, -7]\n",
        "total1= 0\n",
        "i=-1\n",
        "while given_list[i]<0:\n",
        "  total1+=given_list[i]\n",
        "  i-=1\n",
        "  if"
      ]
    }
  ],
  "metadata": {
    "colab": {
      "provenance": [],
      "authorship_tag": "ABX9TyOSHEzgIR919EfmcIB2Xvzj",
      "include_colab_link": true
    },
    "kernelspec": {
      "display_name": "Python 3",
      "name": "python3"
    },
    "language_info": {
      "name": "python"
    }
  },
  "nbformat": 4,
  "nbformat_minor": 0
}