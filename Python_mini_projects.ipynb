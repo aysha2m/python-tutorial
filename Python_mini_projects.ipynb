{
 "cells": [
  {
   "cell_type": "code",
   "execution_count": null,
   "id": "6c8143b8-b05a-4d6b-a44c-ac6a1dcd72af",
   "metadata": {},
   "outputs": [],
   "source": [
    "#write a program to convert weight from pounds to kg and vice versa"
   ]
  },
  {
   "cell_type": "code",
   "execution_count": 4,
   "id": "b5736fbd-b1f6-4996-9641-dc9b68fb5d6e",
   "metadata": {},
   "outputs": [
    {
     "name": "stdin",
     "output_type": "stream",
     "text": [
      "weight:  30\n",
      "(L)bs or (K)g:  K\n"
     ]
    },
    {
     "name": "stdout",
     "output_type": "stream",
     "text": [
      "you are 66.0 pounds\n"
     ]
    }
   ],
   "source": [
    "#WEIGHT CONVERTER\n",
    "weight = int(input('weight: '))\n",
    "unit = input('(L)bs or (K)g: ')\n",
    "if unit.upper() == \"L\":\n",
    "    converted = weight * 0.45\n",
    "    print(f\"you are {converted} kilos\")\n",
    "else:\n",
    "    converted = weight // 0.45\n",
    "    print(f\"you are {converted} pounds\")"
   ]
  },
  {
   "cell_type": "code",
   "execution_count": 2,
   "id": "5df0f745-ebb6-43b0-ba34-2e68a6b0ff5f",
   "metadata": {},
   "outputs": [
    {
     "name": "stdin",
     "output_type": "stream",
     "text": [
      "Guess:   12\n"
     ]
    },
    {
     "name": "stdout",
     "output_type": "stream",
     "text": [
      "you win!\n"
     ]
    }
   ],
   "source": [
    "#GUESSING GAME\n",
    "\n",
    "secret_number = 12\n",
    "guess_count = 0\n",
    "guess_limit = 3\n",
    "while guess_count < guess_limit:\n",
    "    guess = int(input('Guess: '))\n",
    "    guess_count += 1\n",
    "    if guess == secret_number:\n",
    "        print('you win!')\n",
    "        break\n",
    "else:\n",
    "    print('sucks to be you!')"
   ]
  },
  {
   "cell_type": "raw",
   "id": "5d3ecdab-bb0d-434c-bd79-af8915f9aea7",
   "metadata": {},
   "source": []
  },
  {
   "cell_type": "code",
   "execution_count": 3,
   "id": "30e98ba0-56a3-433e-a662-da7527d5c0f6",
   "metadata": {},
   "outputs": [
    {
     "name": "stdin",
     "output_type": "stream",
     "text": [
      ">  help\n"
     ]
    },
    {
     "name": "stdout",
     "output_type": "stream",
     "text": [
      "\n",
      "    start - to start the car\n",
      "    stop - to stop the car\n",
      "    quit - to quit the game\n",
      "        \n"
     ]
    },
    {
     "name": "stdin",
     "output_type": "stream",
     "text": [
      ">  start\n"
     ]
    },
    {
     "name": "stdout",
     "output_type": "stream",
     "text": [
      "car started...go!\n"
     ]
    },
    {
     "name": "stdin",
     "output_type": "stream",
     "text": [
      ">  go\n"
     ]
    },
    {
     "name": "stdout",
     "output_type": "stream",
     "text": [
      "i don't understand...\n"
     ]
    },
    {
     "name": "stdin",
     "output_type": "stream",
     "text": [
      ">  quit\n"
     ]
    },
    {
     "name": "stdout",
     "output_type": "stream",
     "text": [
      "game has ended\n"
     ]
    }
   ],
   "source": [
    "#CAR GAME\n",
    "\n",
    "command = \"\"\n",
    "started = False\n",
    "while True:\n",
    "    command = input(\"> \").lower()\n",
    "    if command == \"start\":\n",
    "        if started: \n",
    "            print('car is already started')\n",
    "        else:\n",
    "            started = True\n",
    "            print('car started...go!')\n",
    "    elif command == \"stop\":\n",
    "        if not started: \n",
    "            print('car is already stopped')\n",
    "        else:\n",
    "            started = False    \n",
    "            print('car stopped')\n",
    "    elif command == \"help\":\n",
    "        print(\"\"\"\n",
    "    start - to start the car\n",
    "    stop - to stop the car\n",
    "    quit - to quit the game\n",
    "        \"\"\")\n",
    "    elif command == \"quit\":\n",
    "        print('game has ended')\n",
    "        break\n",
    "    else:\n",
    "        print(\"i don't understand...\")\n",
    "       \n",
    "        "
   ]
  },
  {
   "cell_type": "code",
   "execution_count": 11,
   "id": "d58260b0-9860-4c4d-907b-aeeb952b1eac",
   "metadata": {},
   "outputs": [
    {
     "name": "stdin",
     "output_type": "stream",
     "text": [
      "> aww :(\n"
     ]
    },
    {
     "name": "stdout",
     "output_type": "stream",
     "text": [
      "aww 😞 \n"
     ]
    }
   ],
   "source": [
    "#emoji converter (application of dictionaries)\n",
    "\n",
    "message = input(\">\")\n",
    "message.split(\" \")\n",
    "words = message.split(\" \")\n",
    "emojis = {\n",
    "    \":)\": \"😊\",\n",
    "    \":(\": \"😞\"\n",
    " \n",
    "}\n",
    "output = \"\"\n",
    "for word in words:\n",
    "    output += emojis.get(word, word) + \" \"\n",
    "print(output)"
   ]
  },
  {
   "cell_type": "code",
   "execution_count": 13,
   "id": "4760f6c9-8b3d-4bc0-8cc6-8fe4efcb9171",
   "metadata": {},
   "outputs": [
    {
     "name": "stdout",
     "output_type": "stream",
     "text": [
      "(5, 1)\n"
     ]
    }
   ],
   "source": [
    "#program to roll a dice\n",
    "#define class call dice with methods roll\n",
    "\n",
    "import random\n",
    "\n",
    "class Dice:   \n",
    "    def roll(self):\n",
    "        first = random.randint(1, 6)\n",
    "        second = random.randint(1, 6)\n",
    "        return first, second\n",
    "\n",
    "\n",
    "dice = Dice()\n",
    "print(dice.roll())\n",
    "        \n",
    "        \n",
    "        "
   ]
  },
  {
   "cell_type": "code",
   "execution_count": null,
   "id": "0270a2ce-c182-4c93-89f2-6c15b62f5072",
   "metadata": {},
   "outputs": [],
   "source": []
  }
 ],
 "metadata": {
  "kernelspec": {
   "display_name": "Python 3 (ipykernel)",
   "language": "python",
   "name": "python3"
  },
  "language_info": {
   "codemirror_mode": {
    "name": "ipython",
    "version": 3
   },
   "file_extension": ".py",
   "mimetype": "text/x-python",
   "name": "python",
   "nbconvert_exporter": "python",
   "pygments_lexer": "ipython3",
   "version": "3.12.4"
  }
 },
 "nbformat": 4,
 "nbformat_minor": 5
}
