{
 "cells": [
  {
   "cell_type": "markdown",
   "id": "32779d7a-6239-4182-8144-42526f3b5b4f",
   "metadata": {},
   "source": [
    "##inheritance"
   ]
  },
  {
   "cell_type": "code",
   "execution_count": 1,
   "id": "d8c00398-9a01-40c0-bc0c-b3014f45e751",
   "metadata": {},
   "outputs": [
    {
     "ename": "IndentationError",
     "evalue": "unexpected indent (3999358115.py, line 23)",
     "output_type": "error",
     "traceback": [
      "\u001b[1;36m  Cell \u001b[1;32mIn[1], line 23\u001b[1;36m\u001b[0m\n\u001b[1;33m    self.prog_lang = prog_lang\u001b[0m\n\u001b[1;37m    ^\u001b[0m\n\u001b[1;31mIndentationError\u001b[0m\u001b[1;31m:\u001b[0m unexpected indent\n"
     ]
    }
   ],
   "source": [
    "class employee:\n",
    "    num_of_emps = 0\n",
    "    raise_amt = 1.04     \n",
    "     \n",
    "    def __init__(self, first, last, pay):    \n",
    "        self.first = first\n",
    "        self.last = last\n",
    "        self.pay = pay \n",
    "        self.email = first + '.' + last + '@company.com'\n",
    "        employee.num_of_emps += 1     \n",
    "        \n",
    "    def fullname(self):                  \n",
    "        return '{} {}'.format(self.first, self.last)\n",
    "\n",
    "    def apply_raise(self):\n",
    "        self.pay= int(self.pay * self.raise_amount)\n",
    "\n",
    "class developer(employee):     #creating a subclass that inherits attributes from the employee class\n",
    "    raise_amount = 1.10\n",
    "\n",
    "    def __init__(self, first, last, pay, prog_lang):\n",
    "        super().__init__(first, last, pay)      #this allows the employee class to handle this part and the dev lass can handle just the other\n",
    "         self.prog_lang = prog_lang\n",
    "\n",
    "class manager(employee):\n",
    "    def __init__(self, first, last, pay, employees=None):\n",
    "        super().__init__(first, last, pay)     \n",
    "        if employees is None:\n",
    "            self.employees = []\n",
    "        else: \n",
    "            self.employees = employees\n",
    "\n",
    "    def add_emps(self, emp):\n",
    "        if emp not in self.employees:\n",
    "            self.employees.append(emp)\n",
    "            \n",
    "    def remove_emps(self,emp):\n",
    "        if emp in self.employees:\n",
    "            self.employees.remove(emp)\n",
    "\n",
    "    def print_emps(self):\n",
    "        for emp in self.employees:\n",
    "            print('-->', emp.fullname())\n",
    "         \n",
    "dev_1 = developer('sasha','aysha', 30000, 'python')   \n",
    "dev_2 = developer('test','user', 23000, 'java')\n",
    "\n",
    "mgr_1 = manager('sara', 'smith', 90000, [dev_1])\n",
    "\n",
    "print(mgr_1.email)\n",
    "mgr_1.print_emps()\n",
    "mgr_1.add_emps(dev_2)\n",
    "mgr_1.print_emps()\n",
    "mgr_1.remove_emps(dev_1)\n",
    "mgr_1.print_emps()\n",
    "# print(dev_1.pay)\n",
    "# dev_1.apply_raise()\n",
    "# print(dev_1.pay)\n",
    "# print(dev_1.email)\n",
    "# print(dev_1.prog_lang)\n",
    "# isinstance() checks if it is an instance of a class **\n",
    "# issubclass()    checks if it is a subclass of a class**"
   ]
  },
  {
   "cell_type": "code",
   "execution_count": null,
   "id": "b7b5e6c5-ede1-422c-9df8-3f10b9fd77bd",
   "metadata": {},
   "outputs": [],
   "source": []
  }
 ],
 "metadata": {
  "kernelspec": {
   "display_name": "Python 3 (ipykernel)",
   "language": "python",
   "name": "python3"
  },
  "language_info": {
   "codemirror_mode": {
    "name": "ipython",
    "version": 3
   },
   "file_extension": ".py",
   "mimetype": "text/x-python",
   "name": "python",
   "nbconvert_exporter": "python",
   "pygments_lexer": "ipython3",
   "version": "3.12.4"
  }
 },
 "nbformat": 4,
 "nbformat_minor": 5
}
