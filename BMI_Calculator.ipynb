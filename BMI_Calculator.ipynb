{
  "cells": [
    {
      "cell_type": "markdown",
      "metadata": {
        "id": "view-in-github",
        "colab_type": "text"
      },
      "source": [
        "<a href=\"https://colab.research.google.com/github/aysha2m/python-tutorial/blob/main/BMI_Calculator.ipynb\" target=\"_parent\"><img src=\"https://colab.research.google.com/assets/colab-badge.svg\" alt=\"Open In Colab\"/></a>"
      ]
    },
    {
      "cell_type": "code",
      "execution_count": null,
      "metadata": {
        "id": "ELYDfnAUebMs"
      },
      "outputs": [],
      "source": [
        "#BMI CALCULATOR\n"
      ]
    },
    {
      "cell_type": "code",
      "execution_count": 6,
      "metadata": {
        "id": "aaKb3ChDeFPy",
        "colab": {
          "base_uri": "https://localhost:8080/"
        },
        "outputId": "2951194b-bd8b-462c-b29e-f65e3e8b8dc6"
      },
      "outputs": [
        {
          "output_type": "stream",
          "name": "stdout",
          "text": [
            "enter your name:aysha\n",
            "enter your weight in pounds:100\n",
            "enter your height in inches:63\n",
            "17.712270093222475\n",
            "aysha, you are underweight.\n"
          ]
        }
      ],
      "source": [
        "name = input('enter your name:')\n",
        "weight = int(input('enter your weight in pounds:'))\n",
        "height = int(input('enter your height in inches:'))\n",
        "\n",
        "bmi = (weight*703) / (height*height)\n",
        "\n",
        "print(bmi)\n",
        "\n",
        "if bmi>0:\n",
        "  if(bmi<18.5):\n",
        "    print(name +', you are underweight.')\n",
        "  elif(bmi<=24.9):\n",
        "    print(name +',you are normal weight')\n",
        "  elif(bmi<29.9):\n",
        "    print(name +',you are overweight')\n",
        "  elif(bmi<34.9):\n",
        "    print(name +',you are obese')\n",
        "  elif(bmi<39.9):\n",
        "    print(name +',you are severely obese')\n",
        "  else:\n",
        "    print(name +',you are morbidly obese')\n",
        "else:\n",
        "    print(name +',enter valid inputs')"
      ]
    }
  ],
  "metadata": {
    "colab": {
      "provenance": [],
      "authorship_tag": "ABX9TyN+aRiMC+8oOl41S+6NAbdn",
      "include_colab_link": true
    },
    "kernelspec": {
      "display_name": "Python 3",
      "name": "python3"
    },
    "language_info": {
      "name": "python"
    }
  },
  "nbformat": 4,
  "nbformat_minor": 0
}