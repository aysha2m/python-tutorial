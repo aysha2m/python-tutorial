{
 "cells": [
  {
   "cell_type": "markdown",
   "id": "0e578f64-ded3-41f7-8d90-bd6affabc9b9",
   "metadata": {},
   "source": [
    "OOP"
   ]
  },
  {
   "cell_type": "code",
   "execution_count": 1,
   "id": "8e13b707-da20-45ec-a44e-7d734d2dcf90",
   "metadata": {},
   "outputs": [],
   "source": [
    "#CLASSES"
   ]
  },
  {
   "cell_type": "code",
   "execution_count": 8,
   "id": "0c4be31a-0f31-4716-9757-24cc9be413a2",
   "metadata": {},
   "outputs": [
    {
     "name": "stdout",
     "output_type": "stream",
     "text": [
      "test\n",
      "test.user@company.com\n",
      "sasha aysha\n"
     ]
    }
   ],
   "source": [
    "class employee:\n",
    "#    pass #to run an empty class without giving an error\n",
    "    def __init__(self, first, last, pay):     #method of the class employee\n",
    "        self.first = first\n",
    "        self.last = last\n",
    "        self.pay = pay \n",
    "        self.email = first + '.' + last + '@company.com'\n",
    "\n",
    "    def fullname(self):                   #method of the class employee\n",
    "        return '{} {}'.format(self.first, self.last)\n",
    "        \n",
    "emp_1 = employee('sasha','aysha', 30000)   #instances of the employee class\n",
    "emp_2 = employee('test','user', 23000)     #instances of the employee class\n",
    "print(emp_2.first)\n",
    "print(emp_2.email)\n",
    "print(emp_1.fullname())"
   ]
  },
  {
   "cell_type": "code",
   "execution_count": 21,
   "id": "fe422078-de2e-477c-b1bf-83312d530131",
   "metadata": {},
   "outputs": [
    {
     "name": "stdout",
     "output_type": "stream",
     "text": [
      "2\n",
      "30000\n",
      "31200.0\n",
      "1.04\n",
      "1.04\n",
      "1.04\n"
     ]
    }
   ],
   "source": [
    " class employee:\n",
    "    num_of_emps = 0\n",
    "    raise_amount = 1.04     #class variable\n",
    "     \n",
    "    def __init__(self, first, last, pay):    \n",
    "        self.first = first\n",
    "        self.last = last\n",
    "        self.pay = pay \n",
    "        self.email = first + '.' + last + '@company.com'\n",
    "        employee.num_of_emps += 1     #places in the init method because it does not change for every employee and the init method is run every time a new employee is added \n",
    "        \n",
    "    def fullname(self):                  \n",
    "        return '{} {}'.format(self.first, self.last)\n",
    "\n",
    "    def apply_raise(self):\n",
    "        self.pay= (self.pay * self.raise_amount)\n",
    "    \n",
    "emp_1 = employee('sasha','aysha', 30000)   \n",
    "emp_2 = employee('test','user', 23000)     \n",
    "\n",
    "\n",
    "\n",
    "print(employee.num_of_emps)   \n",
    "print(emp_1.pay)\n",
    "emp_1.apply_raise()\n",
    "print(emp_1.pay)\n",
    "print(emp_1.raise_amount)\n",
    "print(emp_2.raise_amount)\n",
    "print(employee.raise_amount)"
   ]
  },
  {
   "cell_type": "code",
   "execution_count": 43,
   "id": "005000b6-c665-4e93-bef8-a858d16ea277",
   "metadata": {},
   "outputs": [
    {
     "name": "stdout",
     "output_type": "stream",
     "text": [
      "black.white@company.com\n"
     ]
    }
   ],
   "source": [
    " class employee:\n",
    "    num_of_emps = 0\n",
    "    raise_amt = 1.04     \n",
    "     \n",
    "    def __init__(self, first, last, pay):    \n",
    "        self.first = first\n",
    "        self.last = last\n",
    "        self.pay = pay \n",
    "        self.email = first + '.' + last + '@company.com'\n",
    "        employee.num_of_emps += 1     \n",
    "        \n",
    "    def fullname(self):                  \n",
    "        return '{} {}'.format(self.first, self.last)\n",
    "\n",
    "    def apply_raise(self):\n",
    "        self.pay= (self.pay * self.raise_amount)\n",
    "   \n",
    "    @classmethod                 #using a decorator to create a class method\n",
    "    def set_raise_amt(cls, amount):\n",
    "        cls.raise_amt = amount\n",
    "\n",
    "    @classmethod       #using class method to create an additional constructor to be able to add new employees \n",
    "    def from_string(cls,emp_str):\n",
    "        first, last, pay = emp_str.split('-')\n",
    "        return cls(first, last, pay)\n",
    "         \n",
    "emp_1 = employee('sasha','aysha', 30000)   \n",
    "emp_2 = employee('test','user', 23000)\n",
    "\n",
    "\n",
    "employee.set_raise_amt(1.05)\n",
    "\n",
    "emp_str_1 = 'new-user-40000'\n",
    "emp_str_2 = 'black-white-40000'\n",
    "emp_str_3 = 'green-blue-40000'\n",
    "\n",
    "new_emp_2 = employee.from_string(emp_str_2)\n",
    "\n",
    "# print(emp_1.raise_amt)\n",
    "# print(emp_2.raise_amt)\n",
    "# print(employee.raise_amt)\n",
    "\n",
    "print(new_emp_2.email)"
   ]
  },
  {
   "cell_type": "code",
   "execution_count": 48,
   "id": "c550f0e5-60e2-418a-a445-07ecf0b3fd9f",
   "metadata": {},
   "outputs": [
    {
     "name": "stdout",
     "output_type": "stream",
     "text": [
      "True\n",
      "False\n"
     ]
    }
   ],
   "source": [
    "class employee:\n",
    "    num_of_emps = 0\n",
    "    raise_amt = 1.04     \n",
    "     \n",
    "    def __init__(self, first, last, pay):    \n",
    "        self.first = first\n",
    "        self.last = last\n",
    "        self.pay = pay \n",
    "        self.email = first + '.' + last + '@company.com'\n",
    "        employee.num_of_emps += 1     \n",
    "        \n",
    "    def fullname(self):                  \n",
    "        return '{} {}'.format(self.first, self.last)\n",
    "\n",
    "    def apply_raise(self):\n",
    "        self.pay= (self.pay * self.raise_amount)\n",
    "   \n",
    "    @classmethod                 #using a decorator to create a class method\n",
    "    def set_raise_amt(cls, amount):\n",
    "        cls.raise_amt = amount\n",
    "\n",
    "    @classmethod       #using class method to create an additional constructor to be able to add new employees \n",
    "    def from_string(cls,emp_str):\n",
    "        first, last, pay = emp_str.split('-')\n",
    "        return cls(first, last, pay)\n",
    "\n",
    "    @staticmethod\n",
    "    def is_workday(day):\n",
    "        if day.weekday() == 5 or day.weekday() == 6:\n",
    "            return False\n",
    "        return True\n",
    "         \n",
    "emp_1 = employee('sasha','aysha', 30000)   \n",
    "emp_2 = employee('test','user', 23000)\n",
    "\n",
    "import datetime\n",
    "my_date = datetime.date(2016, 7, 11)\n",
    "my_date1 = datetime.date(2016, 7, 10)\n",
    "\n",
    "print(employee.is_workday(my_date))\n",
    "print(employee.is_workday(my_date1))\n",
    "\n",
    "\n"
   ]
  },
  {
   "cell_type": "code",
   "execution_count": null,
   "id": "798954aa-6ebf-4b5c-b5a2-ccdaeded2aab",
   "metadata": {},
   "outputs": [],
   "source": []
  },
  {
   "cell_type": "code",
   "execution_count": null,
   "id": "c6da7b0d-d831-4bfa-aaa3-fd8b93058b4f",
   "metadata": {},
   "outputs": [],
   "source": []
  },
  {
   "cell_type": "code",
   "execution_count": null,
   "id": "d1af0179-016b-4f51-a64c-93b5661a6748",
   "metadata": {},
   "outputs": [],
   "source": []
  },
  {
   "cell_type": "code",
   "execution_count": null,
   "id": "fa255891-8190-449b-86f9-1e2f52464976",
   "metadata": {},
   "outputs": [],
   "source": []
  },
  {
   "cell_type": "code",
   "execution_count": null,
   "id": "178f28cc-809d-4a3e-b143-799627a24e2b",
   "metadata": {},
   "outputs": [],
   "source": []
  },
  {
   "cell_type": "code",
   "execution_count": null,
   "id": "453bd276-3c5e-464a-a951-a748836b94ef",
   "metadata": {},
   "outputs": [],
   "source": []
  },
  {
   "cell_type": "code",
   "execution_count": null,
   "id": "61a86db2-ca05-428d-bd4e-b0ed2479331f",
   "metadata": {},
   "outputs": [],
   "source": []
  }
 ],
 "metadata": {
  "kernelspec": {
   "display_name": "Python 3 (ipykernel)",
   "language": "python",
   "name": "python3"
  },
  "language_info": {
   "codemirror_mode": {
    "name": "ipython",
    "version": 3
   },
   "file_extension": ".py",
   "mimetype": "text/x-python",
   "name": "python",
   "nbconvert_exporter": "python",
   "pygments_lexer": "ipython3",
   "version": "3.12.4"
  }
 },
 "nbformat": 4,
 "nbformat_minor": 5
}
