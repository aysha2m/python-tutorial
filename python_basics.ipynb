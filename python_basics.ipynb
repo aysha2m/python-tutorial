{
 "cells": [
  {
   "cell_type": "code",
   "execution_count": 1,
   "id": "a871f1bd-0f52-4b8a-80ee-2df94b3b75bf",
   "metadata": {},
   "outputs": [],
   "source": [
    "# Quiz One: Using slicing & indexing, print the third item on the list\n",
    "\n",
    "steps_to_become_a_house_owner = ['save money', 'search for a land', 'purchase a land', 'build a house']\n",
    "\n"
   ]
  },
  {
   "cell_type": "code",
   "execution_count": 2,
   "id": "9e506439-ade4-405d-bb90-6ba78471b95b",
   "metadata": {},
   "outputs": [
    {
     "data": {
      "text/plain": [
       "'purchase a land'"
      ]
     },
     "execution_count": 2,
     "metadata": {},
     "output_type": "execute_result"
    }
   ],
   "source": [
    "steps_to_become_a_house_owner[2]"
   ]
  },
  {
   "cell_type": "code",
   "execution_count": 3,
   "id": "178793d2-bf7e-4e10-91b4-c66dee2a2d8e",
   "metadata": {},
   "outputs": [],
   "source": [
    "# Quiz Two: Answer the below questions\n",
    "#           1. Print the data type of the variable defined below\n",
    "#           2. Processes the first three processes provided in the iterable\n",
    "\n",
    "data_engineering_processes = ('Extraction', 'Transformation', 'Loading', 'Orchestration', 'Logging', 'Monitoring')"
   ]
  },
  {
   "cell_type": "code",
   "execution_count": 4,
   "id": "4e474a78-61c8-4471-b5ff-5a1f70f5d9f2",
   "metadata": {},
   "outputs": [
    {
     "data": {
      "text/plain": [
       "tuple"
      ]
     },
     "execution_count": 4,
     "metadata": {},
     "output_type": "execute_result"
    }
   ],
   "source": [
    "type(data_engineering_processes)"
   ]
  },
  {
   "cell_type": "code",
   "execution_count": 28,
   "id": "7f1c5224-04fa-4dab-b9c6-5ab6369f08da",
   "metadata": {},
   "outputs": [
    {
     "name": "stdout",
     "output_type": "stream",
     "text": [
      "('Extraction', 'Transformation', 'Loading')\n"
     ]
    }
   ],
   "source": [
    "print(data_engineering_processes[0:3])\n"
   ]
  },
  {
   "cell_type": "code",
   "execution_count": null,
   "id": "a1765897-b362-412d-92ee-9ca415fef594",
   "metadata": {},
   "outputs": [],
   "source": [
    "#input in python\n",
    "#ex: ask 2 questions name n fav color and then print a message like \"mosh likes blue\"\n"
   ]
  },
  {
   "cell_type": "code",
   "execution_count": 16,
   "id": "e0731356-143b-4bc9-b55f-9f095597621c",
   "metadata": {},
   "outputs": [
    {
     "name": "stdin",
     "output_type": "stream",
     "text": [
      "what is your name?   sasha\n"
     ]
    },
    {
     "name": "stdout",
     "output_type": "stream",
     "text": [
      "hi sasha\n"
     ]
    }
   ],
   "source": [
    "name = input('what is your name? ' )\n",
    "print('hi' +  name)"
   ]
  },
  {
   "cell_type": "code",
   "execution_count": 20,
   "id": "9020bf56-de7f-46c4-a8af-5072eba86100",
   "metadata": {},
   "outputs": [
    {
     "name": "stdin",
     "output_type": "stream",
     "text": [
      "what is your name? sasha \n",
      "what is your favorite color?  black\n"
     ]
    },
    {
     "name": "stdout",
     "output_type": "stream",
     "text": [
      "sasha likes black\n"
     ]
    }
   ],
   "source": [
    "name = input('what is your name?')\n",
    "favorite_color = input('what is your favorite color?')\n",
    "print(name + 'likes' + favorite_color)"
   ]
  },
  {
   "cell_type": "code",
   "execution_count": null,
   "id": "222f719a-4bfd-4847-92cd-6c56d1767f9c",
   "metadata": {},
   "outputs": [],
   "source": [
    "#type conversion\n",
    "#ex: convert the input birth year to an interger\n",
    "#ex2: ask a user their weight in pounds and convert it to kilograms and print on the terminal"
   ]
  },
  {
   "cell_type": "code",
   "execution_count": 22,
   "id": "8739eb60-e01e-4988-b5df-08f8a7d58155",
   "metadata": {},
   "outputs": [
    {
     "name": "stdin",
     "output_type": "stream",
     "text": [
      "birth year:  1999\n"
     ]
    },
    {
     "name": "stdout",
     "output_type": "stream",
     "text": [
      "<class 'str'>\n",
      "<class 'int'>\n",
      "25\n"
     ]
    }
   ],
   "source": [
    "birth_year = input('birth year: ')\n",
    "print(type(birth_year))\n",
    "age = 2024 - int(birth_year)\n",
    "print(type(age))\n",
    "print(age)"
   ]
  },
  {
   "cell_type": "code",
   "execution_count": 26,
   "id": "6898c058-187f-4dd1-a253-c9cb2f11aa8c",
   "metadata": {},
   "outputs": [
    {
     "name": "stdin",
     "output_type": "stream",
     "text": [
      "what is your weight in pounds:  120\n"
     ]
    },
    {
     "name": "stdout",
     "output_type": "stream",
     "text": [
      "54.0\n"
     ]
    }
   ],
   "source": [
    "weight_in_pds = input('what is your weight in pounds: ')\n",
    "weight_in_kgs = int(weight_in_pds) * 0.45\n",
    "print(weight_in_kgs)"
   ]
  },
  {
   "cell_type": "code",
   "execution_count": null,
   "id": "ef6fa366-cd06-4061-87ec-c3be534bf0fe",
   "metadata": {},
   "outputs": [],
   "source": [
    "#strings \n",
    "#defining a string\n",
    "#formated strings: prefix the strings and add curly braces"
   ]
  },
  {
   "cell_type": "code",
   "execution_count": 35,
   "id": "16d63be5-2469-4227-b29a-8d72aa3f2a03",
   "metadata": {},
   "outputs": [
    {
     "name": "stdout",
     "output_type": "stream",
     "text": [
      "jennifer\n",
      "ennife\n"
     ]
    }
   ],
   "source": [
    "name = 'jennifer'\n",
    "print(name[:])\n",
    "print(name[1:-1])"
   ]
  },
  {
   "cell_type": "code",
   "execution_count": 39,
   "id": "19a1aac4-8fd5-4d30-a927-6b88e1e9aebe",
   "metadata": {},
   "outputs": [
    {
     "name": "stdout",
     "output_type": "stream",
     "text": [
      "sasha + [aysha] + is a data scientist\n"
     ]
    }
   ],
   "source": [
    "fist = 'sasha'\n",
    "last = 'aysha'\n",
    "message = f'{fist} + [{last}] + is a data scientist'\n",
    "print(message)"
   ]
  },
  {
   "cell_type": "code",
   "execution_count": 45,
   "id": "e621f3ad-856f-434b-8bc2-c6eed711718d",
   "metadata": {},
   "outputs": [
    {
     "name": "stdout",
     "output_type": "stream",
     "text": [
      "11\n",
      "HELLO WORLD\n",
      "hello world\n",
      "6\n",
      "hello jorld\n",
      "True\n"
     ]
    }
   ],
   "source": [
    "course = 'hello world'\n",
    "print(len(course)) # count number of characters\n",
    "print(course.upper()) #converting to upper case\n",
    "print(course.lower()) #converting to lower case\n",
    "print(course.find('w')) # produces the index\n",
    "print(course.replace('w', 'j')) #replace a word or letter\n",
    "print('hello' in course)  #gives true or false if character is found or not\n"
   ]
  },
  {
   "cell_type": "code",
   "execution_count": 47,
   "id": "22f08726-8f9f-4c4d-8f18-530bdee512f4",
   "metadata": {},
   "outputs": [
    {
     "name": "stdout",
     "output_type": "stream",
     "text": [
      "13\n",
      "30\n",
      "3.3333333333333335\n",
      "3\n",
      "1\n",
      "1000\n",
      "13\n"
     ]
    }
   ],
   "source": [
    "#arithmetic operators\n",
    "print(10 +3) #addition\n",
    "print(10 * 3)  # multiplication\n",
    "print(10 / 3) # dision gives float\n",
    "print(10 //3)  #gives integer\n",
    "print(10 % 3) #mod (remainder) \n",
    "print(10 ** 3) #exponent(power)\n",
    "x = 10\n",
    "x += 3 #same as x = x+3 known as augmented assignment operator(can use with other operators)\n",
    "print(x)\n",
    "\n",
    "#operator precedence\n",
    "    #parenthesis\n",
    "    #exponent\n",
    "    #multiplication or division\n",
    "    #additionor subtraction\n",
    "\n"
   ]
  },
  {
   "cell_type": "code",
   "execution_count": 48,
   "id": "135c18c0-7731-4277-b638-ce83ff22fc4d",
   "metadata": {},
   "outputs": [
    {
     "name": "stdout",
     "output_type": "stream",
     "text": [
      "3\n",
      "2\n"
     ]
    }
   ],
   "source": [
    "#math functions\n",
    "import math   # brings in the math module which has many functions eg;\n",
    "\n",
    "print(math.ceil(2.9))   #gives the top most integer\n",
    "print(math.floor(2.9))   #gives the bottom integer in that number\n",
    "#can find all the other fxns on google"
   ]
  },
  {
   "cell_type": "code",
   "execution_count": null,
   "id": "ca65227b-7dd2-4ee6-80dd-aa94353f55b1",
   "metadata": {},
   "outputs": [],
   "source": [
    "#if statements\n",
    "#ex: write a program with the following rules \n",
    "#price of house is $1m\n",
    "#if a buyer has good credit, they need to put down 10% otherwise they need to put down 20% and  then print the down payment required \n"
   ]
  },
  {
   "cell_type": "code",
   "execution_count": 63,
   "id": "d86c3f05-9d22-42d6-9753-4e66acbb51c4",
   "metadata": {},
   "outputs": [
    {
     "name": "stdout",
     "output_type": "stream",
     "text": [
      "credit is good\n",
      " down payment is $200000\n"
     ]
    }
   ],
   "source": [
    "price = 1000000\n",
    "has_good_credit = False \n",
    "\n",
    "if has_good_credit:\n",
    "    down_payment = 0.1 * price\n",
    "else:\n",
    "    down_payment = 0.2 * price\n",
    "    print(f' down payment is ${int(down_payment)}')\n",
    "    \n",
    "    "
   ]
  },
  {
   "cell_type": "code",
   "execution_count": null,
   "id": "92fa7aea-71d0-4ccf-948d-0047bad025db",
   "metadata": {},
   "outputs": [],
   "source": [
    "#logical operators for 2 or more conditions \n",
    "    #AND - BOTH CONDITIONS ARE TRUE\n",
    "    #OR - ATLEAST ONE CONDITION IS TRUE\n",
    "    #NOT- THE CONDITION IS NOT TRUE"
   ]
  },
  {
   "cell_type": "code",
   "execution_count": 65,
   "id": "7defb581-25b6-44c4-9782-f17afb81c4b0",
   "metadata": {},
   "outputs": [
    {
     "name": "stdout",
     "output_type": "stream",
     "text": [
      "name looks good\n"
     ]
    }
   ],
   "source": [
    "#comparasion operators\n",
    "# < , >, ==, <=,>=, != (not equal)\n",
    "\n",
    "#ex: write a program for \n",
    "#if name is less than 3 characters long \n",
    "#name must be atleast 3 characters \n",
    "#otherwise if it is more than 50 characters long \n",
    "#name can be a maximun of 50characters \n",
    "#otherwise name looks good\n",
    "\n",
    "\n",
    "name = 'sasha'\n",
    "if len(name) < 3:\n",
    "    print('name must be atleast 3 characters')\n",
    "elif len(name) > 50:\n",
    "    print('name can be a maximun of 50characters')\n",
    "else:\n",
    "    print('name looks good')\n",
    "    "
   ]
  },
  {
   "cell_type": "code",
   "execution_count": 68,
   "id": "f1ca3ce4-c085-4a9b-a449-d499ab49e59b",
   "metadata": {},
   "outputs": [
    {
     "name": "stdout",
     "output_type": "stream",
     "text": [
      "1\n",
      "2\n",
      "3\n",
      "4\n",
      "5\n",
      "done\n"
     ]
    }
   ],
   "source": [
    "#while loops execute a block of code multiple times eg games \n",
    "\n",
    "i = 1\n",
    "while i <= 5:\n",
    "    print(i)\n",
    "    i= i + 1\n",
    "print('done')"
   ]
  },
  {
   "cell_type": "code",
   "execution_count": 76,
   "id": "a2ce9f77-522d-4755-8b75-f378fdb8a929",
   "metadata": {},
   "outputs": [
    {
     "name": "stdout",
     "output_type": "stream",
     "text": [
      "p\n",
      "y\n",
      "t\n",
      "h\n",
      "o\n",
      "n\n",
      "5\n",
      "6\n",
      "7\n",
      "8\n",
      "9\n"
     ]
    }
   ],
   "source": [
    "#for loops to iterate over items of a collection eg string\n",
    "\n",
    "for item in 'python':\n",
    "    print(item)\n",
    "    \n",
    "for item in range (5, 10, 1):    #the last number is what is added to the first number and the middle number is the limit\n",
    "    print(item)\n",
    "    "
   ]
  },
  {
   "cell_type": "code",
   "execution_count": 78,
   "id": "962dd245-87c9-4360-af41-1d5ee84a55da",
   "metadata": {},
   "outputs": [
    {
     "name": "stdout",
     "output_type": "stream",
     "text": [
      "total: 60\n"
     ]
    }
   ],
   "source": [
    "#ex: write a program to calculate the total price of al the items in the shopping cart\n",
    "\n",
    "\n",
    "prices = [10, 20, 30]\n",
    "\n",
    "total = 0\n",
    "for price in prices:\n",
    "    total += price\n",
    "print(f'total: {total}')"
   ]
  },
  {
   "cell_type": "code",
   "execution_count": 2,
   "id": "a80c395a-0f8a-4d2b-a91b-bbca5eb36a87",
   "metadata": {},
   "outputs": [
    {
     "name": "stdout",
     "output_type": "stream",
     "text": [
      "['Atomicity', 'Consistency', 'Isolation', 'Durability']\n",
      "Durability\n"
     ]
    }
   ],
   "source": [
    "# Question 1: Kareem compiled a list of database properties but thinks he included a wrong item at the end of the list\n",
    "#             Using an if statement:\n",
    "#               1. check the number of items in the list\n",
    "#               2. if the length of the list exceeds four:\n",
    "#                      a. create a new list with the right items \n",
    "#                      b. obtain the last item in the list\n",
    "#                      c. print the new list and the last item\n",
    "#               3. if the list does not exceed four items, print Kareem's list as is\n",
    "\n",
    "database_properties = ['Atomicity', 'Consistency', 'Isolation', 'Durability', 'Wrong Item']\n",
    "\n",
    "list_length = len(database_properties)\n",
    "if list_length > 4:\n",
    "    new_list = database_properties[0:4]\n",
    "    print(new_list)\n",
    "    print(new_list[3])\n",
    "else:\n",
    "    print(database_properties)"
   ]
  },
  {
   "cell_type": "code",
   "execution_count": 3,
   "id": "7841c21b-c316-4fe5-a59f-093a3229e9c6",
   "metadata": {},
   "outputs": [
    {
     "name": "stdout",
     "output_type": "stream",
     "text": [
      "['Atomicity', 'Consistency', 'Isolation', 'Durability']\n"
     ]
    }
   ],
   "source": [
    "# Quiz Four: Create an if statement using the same instructions in Question 1 above for the list defined below\n",
    "\n",
    "database_properties = ['Atomicity', 'Consistency', 'Isolation', 'Durability']\n",
    "\n",
    "list_length = len(database_properties)\n",
    "if list_length > 4:\n",
    "    new_list = database_properties[0:4]\n",
    "    print(new_list)\n",
    "    print(new_list[3])\n",
    "else:\n",
    "    print(database_properties)"
   ]
  },
  {
   "cell_type": "code",
   "execution_count": 4,
   "id": "f3d38eb2-eb97-4553-9940-0f3f47ff75bd",
   "metadata": {},
   "outputs": [
    {
     "name": "stdout",
     "output_type": "stream",
     "text": [
      "not in list\n"
     ]
    }
   ],
   "source": [
    "# Quiz Five: Write an if statement that checks if the variable below is in the shopper's list\n",
    "\n",
    "item_to_check = 'EGGS'\n",
    "shoppers_list = ['eggs', 'potatoes', 'garlic', 'blackberries']\n",
    "\n",
    "if item_to_check in shoppers_list:\n",
    "    print(item_to_check) \n",
    "else:\n",
    "    print('not in list')"
   ]
  },
  {
   "cell_type": "code",
   "execution_count": 13,
   "id": "a3e83b48-a5c5-4a89-8d6f-0e69b90639eb",
   "metadata": {},
   "outputs": [
    {
     "name": "stdout",
     "output_type": "stream",
     "text": [
      "kevinis eligible for award\n"
     ]
    }
   ],
   "source": [
    "# Question: A firm wants to award its employees.\n",
    "#           An employee can be considered staff of the month only if they satisfy the below conditions:\n",
    "#               1. The employee has been in the company for over 3 years\n",
    "#               2. The employee has completed their yearly KPI\n",
    "#           Write a conditional statement to determine if Kevin can be awarded staff of the month\n",
    "\n",
    "name = 'kevin'\n",
    "years_in_office_over_3years = True\n",
    "employee_has_completed_their_yearly_KPI = True\n",
    "\n",
    "if years_in_office_over_3years and employee_has_completed_their_yearly_KPI:\n",
    "    print(name + 'is eligible for award')\n",
    "else:\n",
    "    print('not eligible')"
   ]
  },
  {
   "cell_type": "code",
   "execution_count": 14,
   "id": "750a7c4a-0024-421a-ac54-d9976e8931ae",
   "metadata": {},
   "outputs": [
    {
     "name": "stdout",
     "output_type": "stream",
     "text": [
      "(0, 0)\n",
      "(0, 1)\n",
      "(0, 2)\n",
      "(1, 0)\n",
      "(1, 1)\n",
      "(1, 2)\n",
      "(2, 0)\n",
      "(2, 1)\n",
      "(2, 2)\n",
      "(3, 0)\n",
      "(3, 1)\n",
      "(3, 2)\n"
     ]
    }
   ],
   "source": [
    "#nested loops\n",
    "for x in range(4):\n",
    "    for y in range(3):\n",
    "        print(f'({x}, {y})')"
   ]
  },
  {
   "cell_type": "code",
   "execution_count": 17,
   "id": "58e3fcc2-73b7-46e0-a590-4fd6cc6715d6",
   "metadata": {},
   "outputs": [
    {
     "name": "stdout",
     "output_type": "stream",
     "text": [
      "xx\n",
      "xx\n",
      "xx\n",
      "xx\n",
      "xxxxx\n"
     ]
    }
   ],
   "source": [
    "#challenge draw f with xs using nested for loop\n",
    "numbers = [2, 2, 2, 2, 5]\n",
    "for x_count in numbers:\n",
    "    output = ''\n",
    "    for count in range(x_count):\n",
    "        output += 'x'\n",
    "    print(output)"
   ]
  },
  {
   "cell_type": "code",
   "execution_count": 20,
   "id": "ef746166-dd62-46e7-8151-9dd5ba9ca867",
   "metadata": {},
   "outputs": [
    {
     "name": "stdout",
     "output_type": "stream",
     "text": [
      "31\n"
     ]
    }
   ],
   "source": [
    "#list\n",
    "#write a program to w=find the largest number in a list\n",
    "\n",
    "\n",
    "numbers = [2, 4, 31, 8, 12, 23] \n",
    "max = numbers[0]\n",
    "for number in numbers:\n",
    "    if number > max:\n",
    "        max = number\n",
    "print(max)"
   ]
  },
  {
   "cell_type": "code",
   "execution_count": 22,
   "id": "c88083d9-f638-41d2-b68e-e79d5c4e9bf3",
   "metadata": {},
   "outputs": [
    {
     "name": "stdout",
     "output_type": "stream",
     "text": [
      "20\n"
     ]
    }
   ],
   "source": [
    "#2d lists\n",
    "\n",
    "matrix = [\n",
    "    [1, 2, 3],\n",
    "    [4, 5, 6],\n",
    "    [7, 8, 9]\n",
    "]\n",
    "matrix[0][1] = 20\n",
    "print(matrix[0][1])\n",
    "\n"
   ]
  },
  {
   "cell_type": "code",
   "execution_count": 23,
   "id": "6b891386-bfdb-45ed-a964-d9c633c193ce",
   "metadata": {},
   "outputs": [
    {
     "name": "stdout",
     "output_type": "stream",
     "text": [
      "1\n",
      "2\n",
      "3\n",
      "4\n",
      "5\n",
      "6\n",
      "7\n",
      "8\n",
      "9\n"
     ]
    }
   ],
   "source": [
    "matrix = [\n",
    "    [1, 2, 3],\n",
    "    [4, 5, 6],\n",
    "    [7, 8, 9]\n",
    "]\n",
    "for row in matrix:\n",
    "    for item in row:\n",
    "        print(item)   #gets all the items in the list"
   ]
  },
  {
   "cell_type": "code",
   "execution_count": null,
   "id": "beb86cee-58e1-44fb-a4d5-2a1e7fdb1069",
   "metadata": {},
   "outputs": [],
   "source": []
  },
  {
   "cell_type": "code",
   "execution_count": 26,
   "id": "72773600-4668-4c61-86d2-47dd088b66b8",
   "metadata": {},
   "outputs": [
    {
     "name": "stdout",
     "output_type": "stream",
     "text": [
      "[6, 2, 4, 31, 8, 12, 23]\n"
     ]
    }
   ],
   "source": [
    "# list methods\n",
    "\n",
    "numbers = [2, 4, 31, 8, 12, 23]\n",
    "\n",
    "numbers.append()   #add to list there are more thing like index, sort(), pop, copy, and we use in to check for the presents of an item in a list\n",
    "\n",
    "\n",
    "print(numbers)"
   ]
  },
  {
   "cell_type": "code",
   "execution_count": 30,
   "id": "492e5bcf-15c8-4af4-90fb-67c0d2d04a96",
   "metadata": {},
   "outputs": [
    {
     "name": "stdout",
     "output_type": "stream",
     "text": [
      "[2, 4, 31, 23]\n"
     ]
    }
   ],
   "source": [
    "#removing duplicates \n",
    "numbers = [2, 4, 31, 4, 2, 23]\n",
    "uniques = []\n",
    "for number in numbers:\n",
    "    if number not in uniques:\n",
    "        uniques.append(number)\n",
    "print(uniques)\n",
    "    \n"
   ]
  },
  {
   "cell_type": "code",
   "execution_count": 34,
   "id": "47a91828-e28f-40db-b6e3-f0b28aa6d80a",
   "metadata": {},
   "outputs": [
    {
     "ename": "TypeError",
     "evalue": "tuple.count() takes exactly one argument (0 given)",
     "output_type": "error",
     "traceback": [
      "\u001b[1;31m---------------------------------------------------------------------------\u001b[0m",
      "\u001b[1;31mTypeError\u001b[0m                                 Traceback (most recent call last)",
      "Cell \u001b[1;32mIn[34], line 4\u001b[0m\n\u001b[0;32m      1\u001b[0m \u001b[38;5;66;03m#tupples can only get info not change\u001b[39;00m\n\u001b[0;32m      3\u001b[0m numbers \u001b[38;5;241m=\u001b[39m (\u001b[38;5;241m2\u001b[39m, \u001b[38;5;241m4\u001b[39m, \u001b[38;5;241m31\u001b[39m, \u001b[38;5;241m4\u001b[39m, \u001b[38;5;241m2\u001b[39m, \u001b[38;5;241m23\u001b[39m)\n\u001b[1;32m----> 4\u001b[0m numbers\u001b[38;5;241m.\u001b[39mcount()  \u001b[38;5;66;03m#to count items in a tuple\u001b[39;00m\n\u001b[0;32m      5\u001b[0m numbers\u001b[38;5;241m.\u001b[39mindex()\n",
      "\u001b[1;31mTypeError\u001b[0m: tuple.count() takes exactly one argument (0 given)"
     ]
    }
   ],
   "source": [
    "#tupples can only get info not change\n",
    "\n",
    "numbers = (2, 4, 31, 4, 2, 23)\n",
    "numbers.count()  #to count items in a tuple\n",
    "numbers.index()  #to get index\n"
   ]
  },
  {
   "cell_type": "code",
   "execution_count": 33,
   "id": "13431634-5622-4a2a-8863-9a1de7136c2e",
   "metadata": {},
   "outputs": [
    {
     "name": "stdout",
     "output_type": "stream",
     "text": [
      "1\n"
     ]
    }
   ],
   "source": [
    "#unpacking(not only for tuples)\n",
    "coordinates = (1, 2, 3)\n",
    "x, y, z = coordinates\n",
    "print(x)"
   ]
  },
  {
   "cell_type": "code",
   "execution_count": 42,
   "id": "8c738eb3-96f1-47f4-9381-9d2713c2d236",
   "metadata": {},
   "outputs": [
    {
     "name": "stdin",
     "output_type": "stream",
     "text": [
      "phone:  12\n"
     ]
    },
    {
     "name": "stdout",
     "output_type": "stream",
     "text": [
      "One Two \n"
     ]
    }
   ],
   "source": [
    "#dictionaries\n",
    "#create a program that translates figures to words\n",
    "\n",
    "phone = input('phone: ')\n",
    "digits_mapping = {\n",
    "    \"1\": \"One\",\n",
    "    \"2\": \"Two\",\n",
    "    \"3\": \"Three\",\n",
    "    \"4\": \"Four\"\n",
    "}\n",
    "output = \"\"\n",
    "for ch in phone:\n",
    "    output += digits_mapping.get(ch, \"!\") + \" \"\n",
    "print(output)"
   ]
  },
  {
   "cell_type": "code",
   "execution_count": 44,
   "id": "ab4a17d6-7865-4c7f-a7ac-a073800dce0f",
   "metadata": {},
   "outputs": [
    {
     "name": "stdout",
     "output_type": "stream",
     "text": [
      "start\n",
      "hi sasha!\n",
      "welcome abaord\n",
      "hi aysha!\n",
      "welcome abaord\n",
      "finish\n"
     ]
    }
   ],
   "source": [
    "#functions\n",
    "def greet_user(name):\n",
    "    print(f'hi {name}!')\n",
    "    print('welcome abaord')\n",
    "print('start')\n",
    "greet_user('sasha')\n",
    "greet_user('aysha')\n",
    "print('finish')\n"
   ]
  },
  {
   "cell_type": "code",
   "execution_count": 50,
   "id": "62a7013c-ace0-417e-be19-8e00cd356148",
   "metadata": {},
   "outputs": [
    {
     "name": "stdout",
     "output_type": "stream",
     "text": [
      "start\n",
      "hi aysha, sasha!\n",
      "welcome abaord\n"
     ]
    }
   ],
   "source": [
    "#keyword arguments(position dont matter)\n",
    "def greet_user(first_name, last_name):\n",
    "    print(f'hi {first_name}, {last_name}!')\n",
    "    print('welcome abaord')\n",
    "\n",
    "\n",
    "print('start')\n",
    "greet_user(last_name ='sasha', first_name = 'aysha')\n"
   ]
  },
  {
   "cell_type": "code",
   "execution_count": 51,
   "id": "c8dce185-aaa6-411d-8025-2961626916fa",
   "metadata": {},
   "outputs": [
    {
     "name": "stdout",
     "output_type": "stream",
     "text": [
      "9\n"
     ]
    }
   ],
   "source": [
    "#return statement\n",
    "def square(number):\n",
    "    return number * number\n",
    "square(3)\n",
    "print(square(3))"
   ]
  },
  {
   "cell_type": "markdown",
   "id": "134d9306-4f02-471b-b614-d18c2c34f929",
   "metadata": {},
   "source": [
    "#creating a reusable function"
   ]
  },
  {
   "cell_type": "code",
   "execution_count": 54,
   "id": "68a72100-3047-4bad-a293-0124f209f482",
   "metadata": {},
   "outputs": [
    {
     "name": "stdin",
     "output_type": "stream",
     "text": [
      "> hi :)\n"
     ]
    },
    {
     "name": "stdout",
     "output_type": "stream",
     "text": [
      "hi 😊 \n"
     ]
    }
   ],
   "source": [
    "def emoji_converter(message):\n",
    "    message.split(\" \")\n",
    "    words = message.split(\" \")\n",
    "    emojis = {\n",
    "        \":)\": \"😊\",\n",
    "        \":(\": \"😞\"  \n",
    "    }\n",
    "    output = \"\"\n",
    "    for word in words:\n",
    "        output += emojis.get(word, word) + \" \"\n",
    "    return output\n",
    "\n",
    "        \n",
    "message = input(\">\")\n",
    "print(emoji_converter(message))"
   ]
  },
  {
   "cell_type": "code",
   "execution_count": 61,
   "id": "5e441f77-5b95-4bbb-b275-0ed49cec893c",
   "metadata": {},
   "outputs": [
    {
     "name": "stdin",
     "output_type": "stream",
     "text": [
      "Age:  0\n"
     ]
    },
    {
     "name": "stdout",
     "output_type": "stream",
     "text": [
      "age cannot be zero\n"
     ]
    }
   ],
   "source": [
    "#exceptions to handle errors arising from the code\n",
    "\n",
    "try:\n",
    "    age = int(input('Age: '))\n",
    "    income = 20000\n",
    "    risk = income / age\n",
    "    print(age)\n",
    "except ZeroDivisionError:\n",
    "    print('age cannot be zero')\n",
    "except ValueError:\n",
    "    print('invalid value')\n",
    "    \n"
   ]
  },
  {
   "cell_type": "code",
   "execution_count": null,
   "id": "c781395f-11c4-45a0-b77e-3bb8d2eee6f3",
   "metadata": {},
   "outputs": [],
   "source": [
    "#comments used for explanation in code\n"
   ]
  },
  {
   "cell_type": "code",
   "execution_count": null,
   "id": "51f4386c-9e5d-4914-bdf6-39a4d266bd28",
   "metadata": {},
   "outputs": [],
   "source": []
  },
  {
   "cell_type": "code",
   "execution_count": null,
   "id": "351c1b38-67a5-4c29-be65-0c79b85361b3",
   "metadata": {},
   "outputs": [],
   "source": []
  },
  {
   "cell_type": "code",
   "execution_count": null,
   "id": "cffea69a-dd7d-45bc-b8b9-8ec1396e012f",
   "metadata": {},
   "outputs": [],
   "source": []
  },
  {
   "cell_type": "code",
   "execution_count": null,
   "id": "2d665d55-a675-43fc-bcc1-262e9fa23c14",
   "metadata": {},
   "outputs": [],
   "source": []
  },
  {
   "cell_type": "code",
   "execution_count": null,
   "id": "a0e93405-3b93-410d-afc9-71f681b61792",
   "metadata": {},
   "outputs": [],
   "source": []
  },
  {
   "cell_type": "code",
   "execution_count": null,
   "id": "cc5eb0c0-d3bf-4d70-b6c7-4812f5140136",
   "metadata": {},
   "outputs": [],
   "source": []
  },
  {
   "cell_type": "code",
   "execution_count": null,
   "id": "d3c5b35e-7ac6-42e4-a6ce-642d00e59dbf",
   "metadata": {},
   "outputs": [],
   "source": []
  },
  {
   "cell_type": "code",
   "execution_count": null,
   "id": "ba2e6b13-343b-4075-9703-8d77c25e8405",
   "metadata": {},
   "outputs": [],
   "source": []
  },
  {
   "cell_type": "code",
   "execution_count": null,
   "id": "dd5d4b3a-d079-4a71-a3b0-378ad0cd1a4f",
   "metadata": {},
   "outputs": [],
   "source": []
  },
  {
   "cell_type": "code",
   "execution_count": null,
   "id": "facfd172-d9a2-4345-88ef-9c5429eeb883",
   "metadata": {},
   "outputs": [],
   "source": []
  }
 ],
 "metadata": {
  "kernelspec": {
   "display_name": "Python 3 (ipykernel)",
   "language": "python",
   "name": "python3"
  },
  "language_info": {
   "codemirror_mode": {
    "name": "ipython",
    "version": 3
   },
   "file_extension": ".py",
   "mimetype": "text/x-python",
   "name": "python",
   "nbconvert_exporter": "python",
   "pygments_lexer": "ipython3",
   "version": "3.12.4"
  }
 },
 "nbformat": 4,
 "nbformat_minor": 5
}
