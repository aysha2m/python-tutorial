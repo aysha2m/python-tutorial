{
 "cells": [
  {
   "cell_type": "code",
   "execution_count": 1,
   "id": "ff739598-9342-4627-af3e-dbd9b2b3a716",
   "metadata": {},
   "outputs": [],
   "source": [
    "#classes"
   ]
  },
  {
   "cell_type": "code",
   "execution_count": 5,
   "id": "25731d23-2f33-4a48-9376-81983145dfcc",
   "metadata": {},
   "outputs": [
    {
     "name": "stdout",
     "output_type": "stream",
     "text": [
      "10\n",
      "draw\n",
      "1\n"
     ]
    }
   ],
   "source": [
    "#defining the class\n",
    "class Point:\n",
    "    def move(self):\n",
    "        print('move')\n",
    "    def draw(self):\n",
    "        print('draw')\n",
    "\n",
    "\n",
    "#addind a new object to the class\n",
    "point1 = Point()\n",
    "point1.x = 10  #adding attibutes to the object\n",
    "point1.y = 20\n",
    "print(point1.x)\n",
    "point1.draw()\n",
    "\n",
    "point2 = Point()\n",
    "point2.x = 1\n",
    "print(point2.x)"
   ]
  },
  {
   "cell_type": "code",
   "execution_count": 6,
   "id": "02be494c-431b-4154-bda6-2e3e629911e5",
   "metadata": {},
   "outputs": [
    {
     "name": "stdout",
     "output_type": "stream",
     "text": [
      "10\n"
     ]
    }
   ],
   "source": [
    "#constuctors get called at the point of creating an object to avoid the attribute error when trying to print an attribute that doesn't exist\n",
    "class Point:\n",
    "    def __init__(self, x, y):          #_init_(initialize) gets called when we create a new object\n",
    "        self.x = x\n",
    "        self.y = y\n",
    "        \n",
    "    def move(self):\n",
    "        print('move')   \n",
    "    def draw(self):\n",
    "        print('draw')\n",
    "\n",
    "\n",
    "point = Point(10, 20)\n",
    "print(point.x)\n"
   ]
  },
  {
   "cell_type": "code",
   "execution_count": 11,
   "id": "6f16c56d-6db5-4e97-baed-3d632bd12ba4",
   "metadata": {},
   "outputs": [
    {
     "name": "stdout",
     "output_type": "stream",
     "text": [
      "hi i am sasha \n",
      "hi i am bob \n"
     ]
    }
   ],
   "source": [
    "#define a new type called person n this personshould have a name attribute and a talk method\n",
    "\n",
    "class Person: \n",
    "    def __init__(self, name):\n",
    "        self.name = name\n",
    "    def talk(self):\n",
    "        print(f'hi i am {self.name} ')\n",
    "\n",
    "\n",
    "sasha = Person('sasha')\n",
    "sasha.talk()\n",
    "\n",
    "bob = Person('bob')\n",
    "bob.talk()\n",
    "\n"
   ]
  },
  {
   "cell_type": "code",
   "execution_count": 16,
   "id": "ee82bdce-0aff-432b-ae45-a9269445ac87",
   "metadata": {},
   "outputs": [
    {
     "name": "stdout",
     "output_type": "stream",
     "text": [
      "walk\n"
     ]
    }
   ],
   "source": [
    "#inheritance when a class takes characteristic/ methods of another class\n",
    "# method of reusing code\n",
    "\n",
    "class Mammal:\n",
    "    def walk(self):\n",
    "        print('walk')\n",
    "class Dog(Mammal):\n",
    "    pass                #used to allow empty class\n",
    "    \n",
    "class Cat(Mammal):\n",
    "    def annoying(self):\n",
    "        print('annoying')\n",
    "\n",
    "\n",
    "dog1 = Dog()\n",
    "dog1.walk()\n",
    "\n",
    "\n"
   ]
  },
  {
   "cell_type": "code",
   "execution_count": 20,
   "id": "2c90696b-0679-4c7c-883d-e6593b3501c5",
   "metadata": {},
   "outputs": [
    {
     "name": "stdout",
     "output_type": "stream",
     "text": [
      "155.55555555555554\n"
     ]
    }
   ],
   "source": [
    "#modules used to organize code into files\n",
    "#way1 of using a module\n",
    "\n",
    "import converters\n",
    "print(converters.kg_to_lbs(70))\n",
    "    "
   ]
  },
  {
   "cell_type": "code",
   "execution_count": 21,
   "id": "6e81d58d-103d-4ac1-935d-e8ae5671e56d",
   "metadata": {},
   "outputs": [
    {
     "data": {
      "text/plain": [
       "222.22222222222223"
      ]
     },
     "execution_count": 21,
     "metadata": {},
     "output_type": "execute_result"
    }
   ],
   "source": [
    "#way2 of using a module\n",
    "\n",
    "from converters import kg_to_lbs\n",
    "kg_to_lbs(100)"
   ]
  },
  {
   "cell_type": "code",
   "execution_count": null,
   "id": "9f71f515-4899-4e50-962e-f1d1e77b6d04",
   "metadata": {},
   "outputs": [],
   "source": [
    "#write a fxn call it find_max and this fxn should take a list and find n return the largest # in de list\n",
    "#take the fxn n put it in a module named utils\n",
    "#impart the utils module n call the fxn \n",
    "#get results and print on a terminal\n",
    "\n",
    "numbers = [2, 4, 31, 8, 12, 23] \n",
    "max = numbers[0]\n",
    "for number in numbers:\n",
    "    if number > max:\n",
    "        max = number\n",
    "print(max)"
   ]
  },
  {
   "cell_type": "code",
   "execution_count": 25,
   "id": "c0f9b163-f260-4a75-a4a5-41ad21824f4d",
   "metadata": {},
   "outputs": [
    {
     "name": "stdout",
     "output_type": "stream",
     "text": [
      "31\n"
     ]
    }
   ],
   "source": [
    "def find_max(numbers):\n",
    "    max = numbers[0]\n",
    "    for number in numbers:\n",
    "        if number > max:\n",
    "            max = number\n",
    "    return max\n",
    "\n",
    "\n",
    "from utils import find_max\n",
    "numbers = [2, 4, 31, 8, 12, 23]\n",
    "maximum = find_max(numbers)\n",
    "print(maximum)\n",
    "   "
   ]
  },
  {
   "cell_type": "code",
   "execution_count": 35,
   "id": "c476f48d-7382-4d38-91df-0dcde5eadd83",
   "metadata": {},
   "outputs": [
    {
     "name": "stdout",
     "output_type": "stream",
     "text": [
      "0.6145797127044119\n",
      "17\n",
      "0.7135117247085359\n",
      "15\n",
      "0.6464549162351229\n",
      "18\n"
     ]
    }
   ],
   "source": [
    "#generating ramdom vaules\n",
    "\n",
    "import random\n",
    "\n",
    "for i in range(3):                  \n",
    "    print(random.random())           #generate 3 random numbereless than 1\n",
    "    print(random.randint(10, 20))     #genrate 3 random numbers btn 10 and 20\n"
   ]
  },
  {
   "cell_type": "code",
   "execution_count": 43,
   "id": "fca5f232-da6c-4d9d-be87-bfe824f2bd02",
   "metadata": {},
   "outputs": [
    {
     "name": "stdout",
     "output_type": "stream",
     "text": [
      "sasha\n"
     ]
    }
   ],
   "source": [
    "import random\n",
    "\n",
    "members = ['sasha', 'aysha', 'gabi', 'nur']\n",
    "leader = random.choice(members)     #randomly chooses one item from list\n",
    "print(leader)"
   ]
  },
  {
   "cell_type": "code",
   "execution_count": null,
   "id": "076d6839-4630-490c-8359-673753952172",
   "metadata": {},
   "outputs": [],
   "source": [
    "#program to roll a dice\n",
    "#define class call dice with methods roll\n",
    "\n",
    "import random\n",
    "\n",
    "\n",
    "class Dice:   \n",
    "    def roll(self):\n",
    "        first = random.randint(1, 6)\n",
    "        second = random.randint(1, 6)\n",
    "        return first, second\n",
    "\n",
    "\n",
    "dice = Dice()\n",
    "print(dice.roll())"
   ]
  },
  {
   "cell_type": "code",
   "execution_count": null,
   "id": "7d5a7053-1c73-4f8c-9307-6232060869f3",
   "metadata": {},
   "outputs": [],
   "source": [
    "#files and directories\n",
    "\n",
    "from pathlip import Path\n",
    "\n",
    "#absolute path\n",
    "#ex c:\\program files\\microsoft\n",
    "\n",
    "#relative path\n",
    "#ex;  "
   ]
  },
  {
   "cell_type": "code",
   "execution_count": 48,
   "id": "9bd37e9d-c1e1-4cc0-b8cf-e2f488e4b32e",
   "metadata": {},
   "outputs": [
    {
     "name": "stdout",
     "output_type": "stream",
     "text": [
      "True\n"
     ]
    }
   ],
   "source": [
    "from pathlib import Path\n",
    "\n",
    "path = Path('ecommerce')\n",
    "print(path.exists())"
   ]
  },
  {
   "cell_type": "code",
   "execution_count": 54,
   "id": "b88bdb56-8636-4c03-af41-4d3dcd75e867",
   "metadata": {},
   "outputs": [
    {
     "name": "stdout",
     "output_type": "stream",
     "text": [
      "False\n",
      "None\n"
     ]
    }
   ],
   "source": [
    "from pathlib import Path\n",
    "\n",
    "path = Path('emails')\n",
    "print(path.exists())  #checks if directory exists\n",
    "print(path.mkdir())   #make directory\n",
    "\n"
   ]
  },
  {
   "cell_type": "code",
   "execution_count": 55,
   "id": "b06ba21e-d9b2-4bc8-a8ba-86bfbd7e40f0",
   "metadata": {},
   "outputs": [
    {
     "name": "stdout",
     "output_type": "stream",
     "text": [
      "None\n"
     ]
    }
   ],
   "source": [
    "print(path.rmdir())    #remove directory"
   ]
  },
  {
   "cell_type": "code",
   "execution_count": 56,
   "id": "ade041ca-7817-4e08-9938-8338060fe9f1",
   "metadata": {},
   "outputs": [
    {
     "name": "stdout",
     "output_type": "stream",
     "text": [
      "<generator object Path.glob at 0x00000212CB691CF0>\n"
     ]
    }
   ],
   "source": [
    "from pathlib import Path\n",
    "\n",
    "path = Path()\n",
    "print(path.glob('*.py'))"
   ]
  },
  {
   "cell_type": "code",
   "execution_count": 60,
   "id": "b13f542f-a205-48a8-bd44-bd3fe3799a72",
   "metadata": {},
   "outputs": [
    {
     "name": "stdout",
     "output_type": "stream",
     "text": [
      "converters.py\n",
      "utils.py\n"
     ]
    }
   ],
   "source": [
    "from pathlib import Path\n",
    "\n",
    "path = Path()\n",
    "for file in path.glob('*.py'):      #itirating through .py files ie finds all .py files \n",
    "    print(file)\n",
    "\n",
    "for file in path.glob('*'):   #will give all files in path"
   ]
  },
  {
   "cell_type": "code",
   "execution_count": null,
   "id": "e1479a6c-ce75-4fec-96ee-6cdea578099b",
   "metadata": {},
   "outputs": [],
   "source": [
    "#pypi(python package index) and pip ()\n",
    "#pypi.org to get packages for text \n",
    "\n",
    "#installing packages from pypi\n",
    "\n"
   ]
  },
  {
   "cell_type": "code",
   "execution_count": null,
   "id": "4818ded0-d604-4e9f-9e37-dc20a87312c9",
   "metadata": {},
   "outputs": [],
   "source": []
  },
  {
   "cell_type": "code",
   "execution_count": null,
   "id": "7de21b00-571d-4257-9070-7872ca1fd1dc",
   "metadata": {},
   "outputs": [],
   "source": []
  },
  {
   "cell_type": "code",
   "execution_count": null,
   "id": "baad0003-80d8-4413-88f3-d8bb66973fbd",
   "metadata": {},
   "outputs": [],
   "source": []
  },
  {
   "cell_type": "code",
   "execution_count": null,
   "id": "78bc9fa0-1fbc-46ca-bf05-8d55d47d0a13",
   "metadata": {},
   "outputs": [],
   "source": []
  },
  {
   "cell_type": "code",
   "execution_count": null,
   "id": "dcdea26c-9586-4759-9605-51c7aec707df",
   "metadata": {},
   "outputs": [],
   "source": []
  },
  {
   "cell_type": "code",
   "execution_count": null,
   "id": "cf49b65b-11fe-4968-b563-6d363fce96c0",
   "metadata": {},
   "outputs": [],
   "source": []
  },
  {
   "cell_type": "code",
   "execution_count": null,
   "id": "af7c1939-5e90-4ec8-8490-2e9464009992",
   "metadata": {},
   "outputs": [],
   "source": []
  },
  {
   "cell_type": "code",
   "execution_count": null,
   "id": "bce96aad-9aea-463b-95a0-6fa58aea8c20",
   "metadata": {},
   "outputs": [],
   "source": []
  },
  {
   "cell_type": "code",
   "execution_count": null,
   "id": "7ee3eaae-3e8c-4824-800e-3ad1a5b6db17",
   "metadata": {},
   "outputs": [],
   "source": []
  },
  {
   "cell_type": "code",
   "execution_count": null,
   "id": "8656e646-8bd7-4c25-9526-121f6b491171",
   "metadata": {},
   "outputs": [],
   "source": []
  },
  {
   "cell_type": "code",
   "execution_count": null,
   "id": "24b70507-afee-4bb0-83dd-02a9b24cda73",
   "metadata": {},
   "outputs": [],
   "source": []
  },
  {
   "cell_type": "code",
   "execution_count": null,
   "id": "fddadc97-54ad-4e1a-84e6-3507dd151af5",
   "metadata": {},
   "outputs": [],
   "source": []
  },
  {
   "cell_type": "code",
   "execution_count": null,
   "id": "531f29e4-2e38-4ce6-93aa-2ac3a3b81fff",
   "metadata": {},
   "outputs": [],
   "source": []
  },
  {
   "cell_type": "code",
   "execution_count": null,
   "id": "827af715-4e73-40ab-aa90-06704a7115ab",
   "metadata": {},
   "outputs": [],
   "source": []
  },
  {
   "cell_type": "code",
   "execution_count": null,
   "id": "69fbeef8-8e12-49d5-841f-54d97c951b9d",
   "metadata": {},
   "outputs": [],
   "source": []
  }
 ],
 "metadata": {
  "kernelspec": {
   "display_name": "Python 3 (ipykernel)",
   "language": "python",
   "name": "python3"
  },
  "language_info": {
   "codemirror_mode": {
    "name": "ipython",
    "version": 3
   },
   "file_extension": ".py",
   "mimetype": "text/x-python",
   "name": "python",
   "nbconvert_exporter": "python",
   "pygments_lexer": "ipython3",
   "version": "3.12.4"
  }
 },
 "nbformat": 4,
 "nbformat_minor": 5
}
