{
 "cells": [
  {
   "cell_type": "code",
   "execution_count": 18,
   "id": "badaba57-c9a7-496b-8f08-719f1a7716c6",
   "metadata": {},
   "outputs": [
    {
     "name": "stdout",
     "output_type": "stream",
     "text": [
      "transactio_id\n"
     ]
    }
   ],
   "source": [
    "#PROJECT NAME: AUTOMATION WITH PYTHON\n",
    "#it entails building a program that can process thousands of Excel files in seconds\n",
    "\n",
    "import openpyxl as xl\n",
    "from openpyxl.chart import BarChart, Reference\n",
    "\n",
    "wb = xl.load_workbook('transactions.xlsx')\n",
    "sheet = wb['Sheet1']\n",
    "cell = sheet['a1']\n",
    "cell = sheet.cell(1, 1)\n",
    "print(cell.value)"
   ]
  },
  {
   "cell_type": "code",
   "execution_count": 19,
   "id": "90c8b7a0-b2c7-442d-a555-d048258f7374",
   "metadata": {},
   "outputs": [
    {
     "name": "stdout",
     "output_type": "stream",
     "text": [
      "4\n"
     ]
    }
   ],
   "source": [
    "print(sheet.max_row)"
   ]
  },
  {
   "cell_type": "code",
   "execution_count": 20,
   "id": "b04da9c7-8bfd-4118-af50-45711e5c89f0",
   "metadata": {},
   "outputs": [],
   "source": [
    "for row in range(2, sheet.max_row + 1): \n",
    "    cell = sheet.cell(row, 3)\n",
    "    corrected_price = (cell.value) * 0.9\n",
    "    corrected_price_cell = sheet.cell(row, 4)\n",
    "    corrected_price_cell.value = corrected_price\n",
    "    \n",
    "values = Reference(sheet, \n",
    "          min_row=2,\n",
    "          max_row=sheet.max_row,\n",
    "          min_col=4,\n",
    "          max_col=4)\n",
    "chart = BarChart()\n",
    "chart.add_data(values)\n",
    "sheet.add_chart(chart, 'e2')\n",
    "        \n",
    "wb.save('transactions2.xlsx')"
   ]
  },
  {
   "cell_type": "code",
   "execution_count": null,
   "id": "303feebb-b6cc-42dd-9650-c82d0a6e8771",
   "metadata": {},
   "outputs": [],
   "source": [
    "import openpyxl as xl\n",
    "from openpyxl.chart import BarChart, Reference\n",
    "\n",
    "\n",
    "def process_workbook(filename):\n",
    "    wb = xl.load_workbook('filename')\n",
    "    sheet = wb['Sheet1']\n",
    "\n",
    "    \n",
    "    for row in range(2, sheet.max_row + 1): \n",
    "        cell = sheet.cell(row, 3)\n",
    "        corrected_price = (cell.value) * 0.9\n",
    "        corrected_price_cell = sheet.cell(row, 4)\n",
    "        corrected_price_cell.value = corrected_price\n",
    "        \n",
    "    values = Reference(sheet, \n",
    "              min_row=2,\n",
    "              max_row=sheet.max_row,\n",
    "              min_col=4,\n",
    "              max_col=4)\n",
    "    chart = BarChart()\n",
    "    chart.add_data(values)\n",
    "    sheet.add_chart(chart, 'e2')\n",
    "            \n",
    "    wb.save('filename')\n",
    "    "
   ]
  }
 ],
 "metadata": {
  "kernelspec": {
   "display_name": "Python 3 (ipykernel)",
   "language": "python",
   "name": "python3"
  },
  "language_info": {
   "codemirror_mode": {
    "name": "ipython",
    "version": 3
   },
   "file_extension": ".py",
   "mimetype": "text/x-python",
   "name": "python",
   "nbconvert_exporter": "python",
   "pygments_lexer": "ipython3",
   "version": "3.12.4"
  }
 },
 "nbformat": 4,
 "nbformat_minor": 5
}
